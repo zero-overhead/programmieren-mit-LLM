{
 "cells": [
  {
   "cell_type": "markdown",
   "id": "0dc03c16-6c83-4772-8afa-e4c230917272",
   "metadata": {},
   "source": [
    "# Aufgabe"
   ]
  },
  {
   "cell_type": "markdown",
   "id": "69bed480-04cd-494f-816a-04975e182739",
   "metadata": {},
   "source": [
    "AUFGABENSTELLUNG"
   ]
  },
  {
   "cell_type": "markdown",
   "id": "ec326c3f-7f52-4d51-943c-270adce1a425",
   "metadata": {},
   "source": [
    "ChatOpenAI (gpt-3.5-turbo, gpt-4), ChatMistral (mistral-tiny, mistral-small, mistral-medium), temperature 0..1, max-tokens 100 ..4096"
   ]
  },
  {
   "cell_type": "code",
   "execution_count": null,
   "id": "246830df-ba32-4fcb-8dc5-cff42f9e1d68",
   "metadata": {},
   "outputs": [],
   "source": [
    "#% chat openai prompt, conf = 'ChatOpenAI', model=gpt-3.5-turbo, max-tokens=4096, temperature=0.2\n",
    "@CodeWriterX|Python"
   ]
  },
  {
   "cell_type": "code",
   "execution_count": null,
   "id": "c0b6553d-89b2-42a8-87bf-77ec5a45a365",
   "metadata": {},
   "outputs": [],
   "source": [
    "#% chat openai\n",
    "\n"
   ]
  },
  {
   "cell_type": "code",
   "execution_count": null,
   "id": "3214749e-1016-4105-9c7b-0b2b1664c967",
   "metadata": {},
   "outputs": [],
   "source": [
    "#% chat openai\n",
    "\n"
   ]
  },
  {
   "cell_type": "code",
   "execution_count": null,
   "id": "a1e2b7eb-4e05-4131-8c49-a791344e39a8",
   "metadata": {},
   "outputs": [],
   "source": [
    "#% chat mistralai prompt, conf = 'ChatMistral', model=mistral-small, max-tokens=4096, temperature=0.7\n",
    "@CodeWriterX|Python"
   ]
  },
  {
   "cell_type": "code",
   "execution_count": null,
   "id": "8daa2ae3-dacc-4982-8983-d558ae4bcf9a",
   "metadata": {},
   "outputs": [],
   "source": [
    "#% chat mistralai\n",
    "\n"
   ]
  },
  {
   "cell_type": "code",
   "execution_count": null,
   "id": "afffdf23-087d-41d7-8657-548ea024bb37",
   "metadata": {},
   "outputs": [],
   "source": [
    "#% chat mistralai\n",
    "\n"
   ]
  }
 ],
 "metadata": {
  "kernelspec": {
   "display_name": "RakuChatbook",
   "language": "raku",
   "name": "chatbook"
  },
  "language_info": {
   "file_extension": ".raku",
   "mimetype": "text/x-raku",
   "name": "raku",
   "version": "6.d"
  },
  "widgets": {
   "application/vnd.jupyter.widget-state+json": {
    "state": {},
    "version_major": 2,
    "version_minor": 0
   }
  }
 },
 "nbformat": 4,
 "nbformat_minor": 5
}
