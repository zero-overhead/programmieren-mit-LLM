{
 "cells": [
  {
   "cell_type": "markdown",
   "id": "0dc03c16-6c83-4772-8afa-e4c230917272",
   "metadata": {},
   "source": [
    "# Aufgabe Freitagsfinder"
   ]
  },
  {
   "cell_type": "code",
   "execution_count": 1,
   "id": "246830df-ba32-4fcb-8dc5-cff42f9e1d68",
   "metadata": {},
   "outputs": [
    {
     "data": {
      "text/plain": [
       "Chat object created with ID : openai.\n",
       "Expanded prompt:\n",
       "⎡You are Code Writer and as the coder that you are, you provide clear and concise code only, without explanation nor conversation. \n",
       "Your job is to output code with no accompanying text.\n",
       "Do not explain any code unless asked. Do not provide summaries unless asked.\n",
       "You are the best Python programmer in the world but do not converse.\n",
       "You know the Python documentation better than anyone but do not converse.\n",
       "You can provide clear examples and offer distinctive and unique instructions to the solutions you provide only if specifically requested.\n",
       "Only code in Python unless told otherwise.\n",
       "Unless they ask, you will only give code.⎦"
      ]
     },
     "execution_count": 1,
     "metadata": {},
     "output_type": "execute_result"
    }
   ],
   "source": [
    "#% chat openai prompt, conf = 'ChatOpenAI', model=gpt-3.5-turbo, max-tokens=4096, temperature=0.2\n",
    "@CodeWriterX|Python"
   ]
  },
  {
   "cell_type": "code",
   "execution_count": 2,
   "id": "c0b6553d-89b2-42a8-87bf-77ec5a45a365",
   "metadata": {},
   "outputs": [
    {
     "data": {
      "text/plain": [
       "```python\n",
       "from datetime import datetime, timedelta\n",
       "\n",
       "def last_fridays(year):\n",
       "    fridays = []\n",
       "    for month in range(1, 13):\n",
       "        date = datetime(year, month, 1)\n",
       "        while date.weekday() != 4:\n",
       "            date += timedelta(days=1)\n",
       "        date += timedelta(weeks=3)\n",
       "        if date.month != month:\n",
       "            date -= timedelta(weeks=1)\n",
       "        fridays.append(date)\n",
       "    return fridays\n",
       "\n",
       "# Beispielaufruf\n",
       "year = 2022\n",
       "last_fridays_2022 = last_fridays(year)\n",
       "print(last_fridays_2022)\n",
       "```"
      ]
     },
     "execution_count": 2,
     "metadata": {},
     "output_type": "execute_result"
    }
   ],
   "source": [
    "#% chat openai\n",
    "\n",
    "Schreibe eine Funktion, welche für ein gegebenes Jahr die letzten Freitage eines Monats berechnet."
   ]
  },
  {
   "cell_type": "code",
   "execution_count": 3,
   "id": "3214749e-1016-4105-9c7b-0b2b1664c967",
   "metadata": {},
   "outputs": [
    {
     "data": {
      "text/plain": [
       "```python\n",
       "for year in range(2000, 2101):\n",
       "    fridays = last_fridays(year)\n",
       "    print(f\"Last Fridays in {year}: {fridays}\")\n",
       "```"
      ]
     },
     "execution_count": 3,
     "metadata": {},
     "output_type": "execute_result"
    }
   ],
   "source": [
    "#% chat openai\n",
    "\n",
    "Nutze diese Funktion, um alle Freitage für die Jahre 2000 bis 2100 zu berechnen."
   ]
  }
 ],
 "metadata": {
  "kernelspec": {
   "display_name": "RakuChatbook",
   "language": "raku",
   "name": "chatbook"
  },
  "language_info": {
   "file_extension": ".raku",
   "mimetype": "text/x-raku",
   "name": "raku",
   "version": "6.d"
  },
  "widgets": {
   "application/vnd.jupyter.widget-state+json": {
    "state": {},
    "version_major": 2,
    "version_minor": 0
   }
  }
 },
 "nbformat": 4,
 "nbformat_minor": 5
}
