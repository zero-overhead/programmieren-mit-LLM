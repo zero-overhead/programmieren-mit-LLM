{
 "cells": [
  {
   "cell_type": "markdown",
   "id": "0dc03c16-6c83-4772-8afa-e4c230917272",
   "metadata": {},
   "source": [
    "# Aufgabe Eine-Billion-Zikaden-Jahr"
   ]
  },
  {
   "cell_type": "code",
   "execution_count": 1,
   "id": "246830df-ba32-4fcb-8dc5-cff42f9e1d68",
   "metadata": {},
   "outputs": [
    {
     "data": {
      "text/plain": [
       "Chat object created with ID : openai.\n",
       "Expanded prompt:\n",
       "⎡You are Code Writer and as the coder that you are, you provide clear and concise code only, without explanation nor conversation. \n",
       "Your job is to output code with no accompanying text.\n",
       "Do not explain any code unless asked. Do not provide summaries unless asked.\n",
       "You are the best Python programmer in the world but do not converse.\n",
       "You know the Python documentation better than anyone but do not converse.\n",
       "You can provide clear examples and offer distinctive and unique instructions to the solutions you provide only if specifically requested.\n",
       "Only code in Python unless told otherwise.\n",
       "Unless they ask, you will only give code.⎦"
      ]
     },
     "execution_count": 1,
     "metadata": {},
     "output_type": "execute_result"
    }
   ],
   "source": [
    "#% chat openai prompt, conf = 'ChatOpenAI', model=gpt-3.5-turbo, max-tokens=4096, temperature=0.2\n",
    "@CodeWriterX|Python"
   ]
  },
  {
   "cell_type": "markdown",
   "id": "89f16dab-bc8c-4b32-902d-0d7396353374",
   "metadata": {},
   "source": [
    "Abstrahieren wir die Aufgabenstellung etwas:"
   ]
  },
  {
   "cell_type": "code",
   "execution_count": 6,
   "id": "c0b6553d-89b2-42a8-87bf-77ec5a45a365",
   "metadata": {},
   "outputs": [
    {
     "data": {
      "text/plain": [
       "```python\n",
       "def check_events(year):\n",
       "    return (year - 1803) % 17 == 0 and (year - 1803) % 13 == 0\n",
       "```"
      ]
     },
     "execution_count": 6,
     "metadata": {},
     "output_type": "execute_result"
    }
   ],
   "source": [
    "#% chat openai\n",
    "\n",
    "Es existieren zwei Ereignisse.\n",
    "Ereigniss 1 findet die alle 17 Jahre statt, Ereignis 2 alle 13 Jahre.\n",
    "Das letzte Mal, das beide Ereignisse gleichzeitig stattfanden, war 1803.\n",
    "Schreibe eine Function, die zu einem Jahr berechnet, ob in dem gegebenen\n",
    "Jahr beide Ereignisse stattfinden."
   ]
  },
  {
   "cell_type": "code",
   "execution_count": 7,
   "id": "107c31c3-bc31-4f54-ba43-0c54a524b152",
   "metadata": {},
   "outputs": [
    {
     "data": {
      "text/plain": [
       "```python\n",
       "assert check_events(2024) == True\n",
       "assert check_events(1803) == False\n",
       "```"
      ]
     },
     "execution_count": 7,
     "metadata": {},
     "output_type": "execute_result"
    }
   ],
   "source": [
    "#% chat openai\n",
    "\n",
    "Füge Test für 2024 und 1803 mittels assert hinzu."
   ]
  },
  {
   "cell_type": "markdown",
   "id": "b774955a-0a35-4bc2-8054-0d5d46dcc639",
   "metadata": {},
   "source": [
    "OK, beide sollten ja laut Aufgabenstellung True ergeben, und zwischen 1803 und 2024 sollte kein Zikadenjahr berehcnet werden."
   ]
  },
  {
   "cell_type": "code",
   "execution_count": 8,
   "id": "2263f7ff-43ac-4803-83a8-40d58cb629eb",
   "metadata": {},
   "outputs": [
    {
     "data": {
      "text/plain": [
       "```python\n",
       "for year in range(1884, 2024):\n",
       "    assert check_events(year) == False\n",
       "```"
      ]
     },
     "execution_count": 8,
     "metadata": {},
     "output_type": "execute_result"
    }
   ],
   "source": [
    "#% chat openai\n",
    "\n",
    "Iterate all years between 1884 and 2023 and ensure that all return False"
   ]
  },
  {
   "cell_type": "code",
   "execution_count": 9,
   "id": "8c5de183-7cc8-45cd-8e5f-08a8be0a81e0",
   "metadata": {},
   "outputs": [
    {
     "data": {
      "text/plain": [
       "```python\n",
       "def find_next_toe_number():\n",
       "    year = 2024\n",
       "    while True:\n",
       "        if check_events(year):\n",
       "            return year\n",
       "        year += 1\n",
       "```"
      ]
     },
     "execution_count": 9,
     "metadata": {},
     "output_type": "execute_result"
    }
   ],
   "source": [
    "#% chat openai\n",
    "\n",
    "Use a while loop to find the next number greater 2024 that returns True"
   ]
  },
  {
   "cell_type": "markdown",
   "id": "3f83842e-fbc8-4d96-bf39-52f253fcd915",
   "metadata": {},
   "source": [
    "Zusammengebaut ergibt es folgende Lösung\n",
    "\n",
    "```python\n",
    "def check_events(year):\n",
    "    return (year - 1803) % 17 == 0 and (year - 1803) % 13 == 0\n",
    "\n",
    "assert check_events(2024) == True\n",
    "assert check_events(1803) == True\n",
    "\n",
    "for year in range(1884, 2024):\n",
    "    assert check_events(year) == False\n",
    "\n",
    "def find_next_toe_number(year):\n",
    "    while True:\n",
    "        if check_events(year):\n",
    "            return year\n",
    "        year += 1\n",
    "\n",
    "print(find_next_toe_number(2025))\n",
    "```"
   ]
  }
 ],
 "metadata": {
  "kernelspec": {
   "display_name": "RakuChatbook",
   "language": "raku",
   "name": "chatbook"
  },
  "language_info": {
   "file_extension": ".raku",
   "mimetype": "text/x-raku",
   "name": "raku",
   "version": "6.d"
  },
  "widgets": {
   "application/vnd.jupyter.widget-state+json": {
    "state": {},
    "version_major": 2,
    "version_minor": 0
   }
  }
 },
 "nbformat": 4,
 "nbformat_minor": 5
}
