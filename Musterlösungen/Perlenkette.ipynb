{
 "cells": [
  {
   "cell_type": "markdown",
   "id": "550f0d84-baf7-498d-b80a-a37de959245b",
   "metadata": {},
   "source": [
    "# Perlenkette\n",
    "Programmieren mit Turtle: Verwende eine repeat- oder while-Schleife, um eine Perlenkette zu zeichnen. Die Anzahl Perlen kannst du beliebig wählen.\n",
    "\n",
    "![Aufgabenstellung](perlenkette_aufgabe.png)\n",
    "\n",
    "# Lösung ohne Chat-Bot:\n",
    "\n",
    "Hier Musterlösung von [jython.ch](https://www.jython.ch/index.php?inhalt_links=navigation.inc.php&inhalt_mitte=turtle/while.inc.php) Aufgaben: Serie 2, Aufgabe 6 einfügen.\n",
    "\n",
    "# Lösung mit Chat-Bot:\n",
    "\n",
    "Du erstellst zunächst einen OpenAI Chat-Bot mit Namen ```python-coder```, dem du die Rolle ```CodeWriterX``` zuweist und das preislich günstige Modell ```gpt-3.5-turbo``` sowie eine die Kreativität fördernde Temperatur von ```0.7``` wählst."
   ]
  },
  {
   "cell_type": "code",
   "execution_count": 2,
   "id": "9c89d929-5bc1-4d37-884f-7d448be953f6",
   "metadata": {},
   "outputs": [
    {
     "data": {
      "text/plain": [
       "Chat object created with ID : python-coder.\n",
       "Expanded prompt:\n",
       "⎡You are Code Writer and as the coder that you are, you provide clear and concise code only, without explanation nor conversation. \n",
       "Your job is to output code with no accompanying text.\n",
       "Do not explain any code unless asked. Do not provide summaries unless asked.\n",
       "You are the best Python programmer in the world but do not converse.\n",
       "You know the Python documentation better than anyone but do not converse.\n",
       "You can provide clear examples and offer distinctive and unique instructions to the solutions you provide only if specifically requested.\n",
       "Only code in Python unless told otherwise.\n",
       "Unless they ask, you will only give code.⎦"
      ]
     },
     "execution_count": 2,
     "metadata": {},
     "output_type": "execute_result"
    }
   ],
   "source": [
    "#% chat python-coder prompt, conf = 'ChatOpenAI', model=gpt-3.5-turbo, max-tokens=3000, temperature=0.7\n",
    "@CodeWriterX|Python"
   ]
  },
  {
   "cell_type": "markdown",
   "id": "e012ee17-823f-4f78-ac9f-7b72a6564873",
   "metadata": {},
   "source": [
    "Nun gibst du die Fragestellung ohne weitere Anpassungen an den Chatbot ```python-coder```. Du bekommst höchstwahrscheinlich nicht exakt den gleichen Code, insbesondere, wenn du eine andere Temperatur oder ein anderes Modell oder gar einen anderen Anbieter (Mistral, Gemini, ...) beim Erstellen deines ChatBots wählst."
   ]
  },
  {
   "cell_type": "code",
   "execution_count": 2,
   "id": "4db71a7c-5329-459d-8734-96b9bc9241b4",
   "metadata": {},
   "outputs": [
    {
     "data": {
      "text/plain": [
       "```python\n",
       "import turtle\n",
       "\n",
       "t = turtle.Turtle()\n",
       "\n",
       "num_perlen = 10\n",
       "perlen_abstand = 30\n",
       "perlen_farbe = \"black\"\n",
       "\n",
       "t.speed(0)\n",
       "\n",
       "while num_perlen > 0:\n",
       "    t.dot(20, perlen_farbe)\n",
       "    t.penup()\n",
       "    t.forward(perlen_abstand)\n",
       "    t.pendown()\n",
       "    num_perlen -= 1\n",
       "\n",
       "turtle.done()\n",
       "```"
      ]
     },
     "execution_count": 2,
     "metadata": {},
     "output_type": "execute_result"
    }
   ],
   "source": [
    "#% chat python-coder\n",
    "Programmieren mit Turtle: Verwende eine repeat- oder while-Schleife, um eine Perlenkette zu zeichnen. Die Anzahl Perlen kannst du beliebig wählen."
   ]
  },
  {
   "cell_type": "markdown",
   "id": "a9c4013a-669c-4b21-9ab7-1f4e694b0acd",
   "metadata": {},
   "source": [
    "Wenn du diesen Code laufen lässt, erhältst du ff. Bild:\n",
    "\n",
    "![Lösung1](perlenkette_loesung_1.png)"
   ]
  },
  {
   "cell_type": "markdown",
   "id": "3b300d12-8b86-4b5d-8856-54e6e04ebf0c",
   "metadata": {},
   "source": [
    "Was ist schief gelaufen?"
   ]
  },
  {
   "cell_type": "markdown",
   "id": "4abb0cad-463c-43c1-a3c0-6977504842e0",
   "metadata": {},
   "source": [
    "Könnte es sein, dass die Aufgabenstellung ohne die zugehörige Grafik nicht präzise und eindeutig spezifiziert ist? Wurde vielleicht der Begriff Perlenkette vom LLM \"falsch verstanden\"?\n",
    "\n",
    "Wenn du weisst \"wie\", kannst du die notwendigen Anpassungen nun selbst vornehmen. Wenn nicht, musst du möglichst präzise, verständlich und einfach spezifizieren, was du vom Chat-Bot genau haben willst.\n",
    "\n",
    "Eine bewährte Herangehensweise - nicht nur bei der Arbeit mit Chat-Bots - ist es, eine (zu komplexe) Aufgabenstellung in mehrere, einfachere Unteraufgaben aufzuteilen. In diesem Beispiel etwa so:\n",
    "\n",
    "1. Zeichne einen Kreis.\n",
    "2. Zeichne Punkte auf einen Kreis.\n",
    "\n",
    "Wenn wir also Code haben, der einen Kreis zeichnen kann, und anschliessend Code, der Punkte (Perlen) zeichnet, die auf einem Kreis liegen, wäre das eine mögliche Gesamtlösung.\n",
    "\n",
    "Verbessern wir die initiale Lösung schrittweise:"
   ]
  },
  {
   "cell_type": "code",
   "execution_count": 15,
   "id": "d252fff4-c308-4356-bcea-b3fafcc53885",
   "metadata": {},
   "outputs": [
    {
     "data": {
      "text/plain": [
       "```python\n",
       "import turtle\n",
       "import math\n",
       "\n",
       "t = turtle.Turtle()\n",
       "\n",
       "radius = 100\n",
       "num_perlen = 10\n",
       "perlen_farbe = \"black\"\n",
       "angle = 360 / num_perlen\n",
       "\n",
       "t.speed(0)\n",
       "\n",
       "for _ in range(num_perlen):\n",
       "    x = radius * math.cos(math.radians(angle * _))\n",
       "    y = radius * math.sin(math.radians(angle * _))\n",
       "    t.penup()\n",
       "    t.goto(x, y)\n",
       "    t.dot(20, perlen_farbe)\n",
       "\n",
       "turtle.done()\n",
       "```"
      ]
     },
     "execution_count": 15,
     "metadata": {},
     "output_type": "execute_result"
    }
   ],
   "source": [
    "#% chat python-coder\n",
    "Verbessere den Code, so dass die Perlen auf einem Kreis liegen\n",
    "\n",
    "```python\n",
    "import turtle\n",
    "\n",
    "t = turtle.Turtle()\n",
    "\n",
    "num_perlen = 10\n",
    "perlen_abstand = 30\n",
    "perlen_farbe = \"black\"\n",
    "\n",
    "t.speed(0)\n",
    "\n",
    "while num_perlen > 0:\n",
    "    t.dot(20, perlen_farbe)\n",
    "    t.penup()\n",
    "    t.forward(perlen_abstand)\n",
    "    t.pendown()\n",
    "    num_perlen -= 1\n",
    "\n",
    "turtle.done()\n",
    "```\n"
   ]
  },
  {
   "cell_type": "markdown",
   "id": "c57487f5-203b-411b-8ac9-bf33c603c05a",
   "metadata": {},
   "source": [
    "Das sieht schon etwas komplizierter aus. Wenn du diesen Code laufen lässt, erhältst du ff. Bild:\n",
    "\n",
    "![Lösung1](perlenkette_loesung_2.png)\n",
    "\n",
    "Nicht schlecht! Damit können wir arbeiten. Wie wir Radius, Farbe, Anzahl und Grösse der Perlen ändern, ist ja offensichtlich. Jetzt fehlt nur noch das \"Band\" durch die Perlen."
   ]
  },
  {
   "cell_type": "code",
   "execution_count": 3,
   "id": "676b83a6-5052-4328-b08d-5819fef70c4e",
   "metadata": {},
   "outputs": [
    {
     "data": {
      "text/plain": [
       "```python\n",
       "import turtle\n",
       "\n",
       "t = turtle.Turtle()\n",
       "t.color(\"blue\")\n",
       "t.circle(100)\n",
       "\n",
       "turtle.done()\n",
       "```"
      ]
     },
     "execution_count": 3,
     "metadata": {},
     "output_type": "execute_result"
    }
   ],
   "source": [
    "#% chat python-coder\n",
    "Zeichne einen Kreis in blauer Farbe."
   ]
  },
  {
   "cell_type": "markdown",
   "id": "fbac2a46-9955-451a-93e7-e14501ee2451",
   "metadata": {},
   "source": [
    "Das war ja einfach.\n",
    "\n",
    "![Lösung1](perlenkette_loesung_3.png)\n",
    "\n",
    "Jetzt heisst es, den Code richtig zusammenzubauen. Das machen wir von Hand, dazu benötigen wir den Chat-Bot nicht.\n",
    "\n",
    "Versuchen wir es doch so: zuerst den Kreis zeichnen und dann die Kugeln. Das sieht dann ungefähr so aus:\n",
    "\n",
    "```python\n",
    "import turtle\n",
    "import math\n",
    "\n",
    "t = turtle.Turtle()\n",
    "\n",
    "radius = 100\n",
    "num_perlen = 10\n",
    "perlen_farbe = \"blue\"\n",
    "angle = 360 / num_perlen\n",
    "\n",
    "t.speed(0)\n",
    "\n",
    "# Code für den Kreis\n",
    "t.color(perlen_farbe)\n",
    "t.circle(radius)\n",
    "\n",
    "# Code für die Kugeln\n",
    "for _ in range(num_perlen):\n",
    "    x = radius * math.cos(math.radians(angle * _))\n",
    "    y = radius * math.sin(math.radians(angle * _))\n",
    "    t.penup()\n",
    "    t.goto(x, y)\n",
    "    t.dot(20, perlen_farbe)\n",
    "\n",
    "turtle.done()\n",
    "```\n",
    "\n",
    "Laufen lassen ergibt:\n",
    "\n",
    "![Lösung1](perlenkette_loesung_4.png)"
   ]
  },
  {
   "cell_type": "markdown",
   "id": "5e7acda5-f1c2-462c-b3e4-dc8593a36ac3",
   "metadata": {},
   "source": [
    "Wo liegt der Fehler und wie beheben wir diesen? Zur Analyse lassen wir uns den Code erklären, insbesondere die Zeilen 19 und 20 müssen wir verstehen."
   ]
  },
  {
   "cell_type": "code",
   "execution_count": 5,
   "id": "2bff1d31-47c2-48a4-9f3d-cd1145681de3",
   "metadata": {},
   "outputs": [
    {
     "data": {
      "text/plain": [
       "```python\n",
       "import turtle\n",
       "import math\n",
       "\n",
       "t = turtle.Turtle()\n",
       "\n",
       "radius = 100\n",
       "num_perlen = 10\n",
       "perlen_farbe = \"blue\"\n",
       "angle = 360 / num_perlen\n",
       "\n",
       "t.speed(0)\n",
       "\n",
       "# Code für den Kreis\n",
       "t.color(perlen_farbe)\n",
       "t.circle(radius)\n",
       "\n",
       "# Code für die Kugeln\n",
       "for _ in range(num_perlen):\n",
       "    x = radius * math.cos(math.radians(angle * _))\n",
       "    y = radius * math.sin(math.radians(angle * _))\n",
       "    t.penup()\n",
       "    t.goto(x, y)\n",
       "    t.dot(20, perlen_farbe)\n",
       "\n",
       "turtle.done()\n",
       "```\n",
       "\n",
       "In lines 19 and 20, a loop is used to place beads along the circumference of the circle. The coordinates for each bead are calculated using polar coordinates. `x` and `y` are calculated using trigonometric functions (`cos` and `sin`) with the angle converted to radians. Then the turtle is moved to the calculated coordinates and a bead with a diameter of 20 is drawn in the specified color."
      ]
     },
     "execution_count": 5,
     "metadata": {},
     "output_type": "execute_result"
    }
   ],
   "source": [
    "#% chat python-coder\n",
    "Erkläre den Code, insbesondere die Zeilen 19 und 20:\n",
    "\n",
    "```python\n",
    "import turtle\n",
    "import math\n",
    "\n",
    "t = turtle.Turtle()\n",
    "\n",
    "radius = 100\n",
    "num_perlen = 10\n",
    "perlen_farbe = \"blue\"\n",
    "angle = 360 / num_perlen\n",
    "\n",
    "t.speed(0)\n",
    "\n",
    "# Code für den Kreis\n",
    "t.color(perlen_farbe)\n",
    "t.circle(radius)\n",
    "\n",
    "# Code für die Kugeln\n",
    "for _ in range(num_perlen):\n",
    "    x = radius * math.cos(math.radians(angle * _))\n",
    "    y = radius * math.sin(math.radians(angle * _))\n",
    "    t.penup()\n",
    "    t.goto(x, y)\n",
    "    t.dot(20, perlen_farbe)\n",
    "\n",
    "turtle.done()\n",
    "```"
   ]
  },
  {
   "cell_type": "markdown",
   "id": "701410f3-9d80-479c-a0ec-22fb6c6b77f3",
   "metadata": {},
   "source": [
    "Nanu, Englisch? Zum Glück können wir das lesen - wenn nicht, lassen wir es hier oder bspw. von [Deepl](https://www.deepl.com/translator) in eine Sprache unserer Wahl übersetzen.\n",
    "\n",
    "Laut Erklärung benutzen wir also den Sinus- bzw. Cosinus-Satz zur Berechnung der Koordinaten der Perlen im Koordinatensystem - Kreisförmig um (0,0). Es wurde zwar nicht erklärt, aber wir wissen, dass die Turtle bei (0,0) initialisiert wird und demzufolge der Kreis, der mit ```t.circle(radius)``` gezeichnet wird, bei (0,0) startet und endet und in den Quadranten I und II gezeichnet wird. Eine Lösung ist es also, die Turtle auf der Y-Achse nach unten zu verschieben, bevor der Kreis gezeichnet wird. Um wie viel? Um den Radius! Wie geht das?"
   ]
  },
  {
   "cell_type": "code",
   "execution_count": 6,
   "id": "cc508893-7e83-422b-9528-4a7a75ed1e80",
   "metadata": {},
   "outputs": [
    {
     "data": {
      "text/plain": [
       "```python\n",
       "import turtle\n",
       "\n",
       "t = turtle.Turtle()\n",
       "t.sety(-100)\n",
       "\n",
       "turtle.done()\n",
       "```"
      ]
     },
     "execution_count": 6,
     "metadata": {},
     "output_type": "execute_result"
    }
   ],
   "source": [
    "#% chat python-coder\n",
    "Schreibe ein Programm, dass eine Turtle auf der Y-Achse nach unten verschiebt."
   ]
  },
  {
   "cell_type": "markdown",
   "id": "7717d60b-5f2d-4df5-bb34-a8a84a313463",
   "metadata": {},
   "source": [
    "Das war ja einfach. Das hätten wir natürlich auch selbst in der [Dokumentation](https://docs.python.org/3/library/turtle.html) nachschlagen können, oder bei [Stackoverflow](https://stackoverflow.com/) suchen oder uns direkt an eine [Suchmaschine](https://www.perplexity.ai/) wenden können. So geht es aber auch.\n",
    "\n",
    "Bauen wir den neuen Code ein, und fügen noch ```t.penup()```und ```t.pendown()``` an den richtigen Stellen hinzu, damit die Verschiebung nach unten keine Spuren hinterlässt - diese beiden Befehle kennen wir noch aus vorhergehenden Übungen, so erhalten wir:\n",
    "\n",
    "```python\n",
    "import turtle\n",
    "import math\n",
    "\n",
    "t = turtle.Turtle()\n",
    "\n",
    "radius = 100\n",
    "num_perlen = 10\n",
    "perlen_farbe = \"blue\"\n",
    "angle = 360 / num_perlen\n",
    "\n",
    "t.speed(0)\n",
    "t.color(perlen_farbe)\n",
    "\n",
    "# Code für den Kreis\n",
    "t.penup()\n",
    "t.sety(-1 * radius)\n",
    "t.pendown()\n",
    "t.circle(radius)\n",
    "t.penup()\n",
    "\n",
    "# Code für die Kugeln\n",
    "for _ in range(num_perlen):\n",
    "    x = radius * math.cos(math.radians(angle * _))\n",
    "    y = radius * math.sin(math.radians(angle * _))\n",
    "    t.goto(x, y)\n",
    "    t.dot(20, perlen_farbe)\n",
    "\n",
    "turtle.done()\n",
    "```\n",
    "\n",
    "![Lösung1](perlenkette_loesung_5.png)"
   ]
  },
  {
   "cell_type": "markdown",
   "id": "3bce795a-3a4e-4d19-b447-0542ad5197a6",
   "metadata": {},
   "source": [
    "ToDo: ändere den Code so, dass auch die Grösse der Perlen (direkt nach dem Radius der Perlenkette) spezifiziert werden kann."
   ]
  }
 ],
 "metadata": {
  "kernelspec": {
   "display_name": "RakuChatbook",
   "language": "raku",
   "name": "chatbook"
  },
  "language_info": {
   "file_extension": ".raku",
   "mimetype": "text/x-raku",
   "name": "raku",
   "version": "6.d"
  },
  "widgets": {
   "application/vnd.jupyter.widget-state+json": {
    "state": {},
    "version_major": 2,
    "version_minor": 0
   }
  }
 },
 "nbformat": 4,
 "nbformat_minor": 5
}
