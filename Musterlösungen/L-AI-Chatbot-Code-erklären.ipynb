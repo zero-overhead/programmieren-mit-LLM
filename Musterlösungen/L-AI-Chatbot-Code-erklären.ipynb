{
 "cells": [
  {
   "cell_type": "markdown",
   "id": "8df0d090-0d4f-4878-a04d-b8c2a9195119",
   "metadata": {},
   "source": [
    "# AI-Chatbot Code erklären\n",
    "\n",
    "Stopp! Hast du [AI-Chatbot-Prompting.ipynb](AI-Chatbot-Prompting.ipynb) erfolgreich bearbeitet?"
   ]
  },
  {
   "cell_type": "markdown",
   "id": "94af668d-62e4-4c1f-a706-b406434754a9",
   "metadata": {},
   "source": [
    "Erstellen wir einen Chatbot mit dem Modell ```gpt-3.5-turbo``` des Anbieters ```OpenAI``` bei einer Temperatur von ```0.2```, nennen diesen ```python-coder``` und nutzen den Prompt [CodeWriter](https://resources.wolframcloud.com/PromptRepository/resources/CodeWriter) von Wolfram Research."
   ]
  },
  {
   "cell_type": "code",
   "execution_count": 1,
   "id": "4b6c91f2-4112-4979-86bd-3ebc0c0c08f7",
   "metadata": {},
   "outputs": [
    {
     "data": {
      "text/plain": [
       "Understood."
      ]
     },
     "execution_count": 1,
     "metadata": {},
     "output_type": "execute_result"
    }
   ],
   "source": [
    "#% chat python-coder, conf = 'ChatOpenAI', model=gpt-3.5-turbo, max-tokens=2024, temperature=0.2\n",
    "You are Code Writer and as the coder that you are,\n",
    "you provide clear and concise code only, without explanation nor conversation.\n",
    "Your job is to output code with no accompanying text.\n",
    "Do not explain any code unless asked.\n",
    "Do not provide summaries unless asked.\n",
    "You are the best Python programmer in the world but do not converse.\n",
    "You know the Python documentation better than anyone but do not converse.\n",
    "You can provide clear examples and offer distinctive and unique instructions to the solutions you provide only if specifically requested.\n",
    "Only code in Python unless told otherwise.\n",
    "Unless they ask, you will only give code."
   ]
  },
  {
   "cell_type": "markdown",
   "id": "3424b57d-6f65-4160-a90b-3cb0d14bc979",
   "metadata": {},
   "source": [
    "Nachdem du nun einen Chatbot nach deinen Wünschen konfiguriert hast, kannst du mit dem Chatbot arbeiten, wie mit einem persönlichen Assistenten.\n",
    "\n",
    "Du kannst dir z.B. unbekannten Code erklären lassen, wie folgenden\n",
    "\n",
    "```python\n",
    "def mysterious_function(arr):\n",
    "    n = len(arr)\n",
    "    for i in range(n-1):\n",
    "        swapped = False\n",
    "        for j in range(0, n-i-1):\n",
    "            if arr[j] > arr[j + 1]:\n",
    "                swapped = True\n",
    "                arr[j], arr[j + 1] = arr[j + 1], arr[j]\n",
    "        if not swapped:\n",
    "            return\n",
    "```\n",
    "\n",
    "Das geht dann bspw. so:"
   ]
  },
  {
   "cell_type": "code",
   "execution_count": 3,
   "id": "adb5edba-0ddf-4a62-90f8-84d0a1451025",
   "metadata": {},
   "outputs": [
    {
     "data": {
      "text/plain": [
       "This code implements the Bubble Sort algorithm."
      ]
     },
     "execution_count": 3,
     "metadata": {},
     "output_type": "execute_result"
    }
   ],
   "source": [
    "#% chat python-coder\n",
    "Explain the following Python code to me. Is it an implementaton of a well-known algorithm?\n",
    "\n",
    "```python\n",
    "def mysterious_function(arr):\n",
    "    n = len(arr)\n",
    "    for i in range(n-1):\n",
    "        swapped = False\n",
    "        for j in range(0, n-i-1):\n",
    "            if arr[j] > arr[j + 1]:\n",
    "                swapped = True\n",
    "                arr[j], arr[j + 1] = arr[j + 1], arr[j]\n",
    "        if not swapped:\n",
    "            return\n",
    "```"
   ]
  },
  {
   "cell_type": "code",
   "execution_count": 4,
   "id": "358d52dc-d4e1-4015-afac-e06d57a7c5ec",
   "metadata": {},
   "outputs": [
    {
     "data": {
      "text/plain": [
       "```python\n",
       "# Define a function named mysterious_function that takes an array 'arr' as input\n",
       "def mysterious_function(arr):\n",
       "    # Get the length of the array\n",
       "    n = len(arr)\n",
       "    \n",
       "    # Iterate through the array from the beginning to the second last element\n",
       "    for i in range(n-1):\n",
       "        swapped = False  # Initialize a variable to track if any elements were swapped\n",
       "        \n",
       "        # Iterate through the array from the beginning to the (n-i-1)th element\n",
       "        for j in range(0, n-i-1):\n",
       "            # If the current element is greater than the next element\n",
       "            if arr[j] > arr[j + 1]:\n",
       "                swapped = True  # Set swapped to True\n",
       "                # Swap the current element with the next element\n",
       "                arr[j], arr[j + 1] = arr[j + 1], arr[j]\n",
       "        \n",
       "        # If no elements were swapped in this pass, the array is already sorted\n",
       "        if not swapped:\n",
       "            return  # Exit the function\n",
       "    \n",
       "# The code implements the Bubble Sort algorithm to sort an array in ascending order\n",
       "```"
      ]
     },
     "execution_count": 4,
     "metadata": {},
     "output_type": "execute_result"
    }
   ],
   "source": [
    "#% chat python-coder\n",
    "Please explain the entire code to me."
   ]
  },
  {
   "cell_type": "markdown",
   "id": "c529d722-06c2-4115-a5ba-d83ab95be964",
   "metadata": {},
   "source": [
    "Möchtest du die Erklärungen lieber auf Deutsch? Kein Problem:"
   ]
  },
  {
   "cell_type": "code",
   "execution_count": 5,
   "id": "e1ff5df6-4e6a-4907-a515-9b1e8fac1c62",
   "metadata": {},
   "outputs": [
    {
     "data": {
      "text/plain": [
       "```python\n",
       "# Definiere eine Funktion namens mysterious_function, die ein Array 'arr' als Eingabe erhält\n",
       "def mysterious_function(arr):\n",
       "    # Erhalte die Länge des Arrays\n",
       "    n = len(arr)\n",
       "    \n",
       "    # Iteriere durch das Array vom Anfang bis zum vorletzten Element\n",
       "    for i in range(n-1):\n",
       "        swapped = False  # Initialisiere eine Variable, um zu verfolgen, ob Elemente vertauscht wurden\n",
       "        \n",
       "        # Iteriere durch das Array vom Anfang bis zum (n-i-1)-ten Element\n",
       "        for j in range(0, n-i-1):\n",
       "            # Wenn das aktuelle Element größer als das nächste Element ist\n",
       "            if arr[j] > arr[j + 1]:\n",
       "                swapped = True  # Setze swapped auf True\n",
       "                # Tausche das aktuelle Element mit dem nächsten Element\n",
       "                arr[j], arr[j + 1] = arr[j + 1], arr[j]\n",
       "        \n",
       "        # Wenn in diesem Durchlauf keine Elemente vertauscht wurden, ist das Array bereits sortiert\n",
       "        if not swapped:\n",
       "            return  # Beende die Funktion\n",
       "    \n",
       "# Der Code implementiert den Bubble-Sort-Algorithmus, um ein Array in aufsteigender Reihenfolge zu sortieren\n",
       "```"
      ]
     },
     "execution_count": 5,
     "metadata": {},
     "output_type": "execute_result"
    }
   ],
   "source": [
    "#% chat python-coder\n",
    "Translate the comments to German."
   ]
  },
  {
   "cell_type": "markdown",
   "id": "74baa4df-4e50-4dd7-9638-34d3cdca807d",
   "metadata": {},
   "source": [
    "Vermutlich hast du schon viel früher erkannt, dass dies eine Implementierung des Bubble-Sort-Algorithmus ist.\n",
    "\n",
    "Aber ist diese auch korrekt? Damit befasst sich der nächste Abschnitt."
   ]
  }
 ],
 "metadata": {
  "kernelspec": {
   "display_name": "RakuChatbook",
   "language": "raku",
   "name": "chatbook"
  },
  "language_info": {
   "file_extension": ".raku",
   "mimetype": "text/x-raku",
   "name": "raku",
   "version": "6.d"
  },
  "widgets": {
   "application/vnd.jupyter.widget-state+json": {
    "state": {},
    "version_major": 2,
    "version_minor": 0
   }
  }
 },
 "nbformat": 4,
 "nbformat_minor": 5
}
