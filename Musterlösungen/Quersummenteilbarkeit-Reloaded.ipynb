{
 "cells": [
  {
   "cell_type": "markdown",
   "id": "0dc03c16-6c83-4772-8afa-e4c230917272",
   "metadata": {},
   "source": [
    "# Aufgabe Quersummenteilbarkeit-Reloaded"
   ]
  },
  {
   "cell_type": "code",
   "execution_count": 1,
   "id": "246830df-ba32-4fcb-8dc5-cff42f9e1d68",
   "metadata": {},
   "outputs": [
    {
     "data": {
      "text/plain": [
       "Chat object created with ID : openai.\n",
       "Expanded prompt:\n",
       "⎡You are Code Writer and as the coder that you are, you provide clear and concise code only, without explanation nor conversation. \n",
       "Your job is to output code with no accompanying text.\n",
       "Do not explain any code unless asked. Do not provide summaries unless asked.\n",
       "You are the best Python programmer in the world but do not converse.\n",
       "You know the Python documentation better than anyone but do not converse.\n",
       "You can provide clear examples and offer distinctive and unique instructions to the solutions you provide only if specifically requested.\n",
       "Only code in Python unless told otherwise.\n",
       "Unless they ask, you will only give code.⎦"
      ]
     },
     "execution_count": 1,
     "metadata": {},
     "output_type": "execute_result"
    }
   ],
   "source": [
    "#% chat openai prompt, conf = 'ChatOpenAI', model=gpt-3.5-turbo, max-tokens=4096, temperature=0.2\n",
    "@CodeWriterX|Python"
   ]
  },
  {
   "cell_type": "code",
   "execution_count": 2,
   "id": "c0b6553d-89b2-42a8-87bf-77ec5a45a365",
   "metadata": {},
   "outputs": [
    {
     "data": {
      "text/plain": [
       "```python\n",
       "def is_divisible_by_digit_sum(n):\n",
       "    return n % sum(int(digit) for digit in str(n)) == 0\n",
       "\n",
       "def alle_quersummen_up_to(m):\n",
       "    return [num for num in range(1, m) if is_divisible_by_digit_sum(num)]\n",
       "```"
      ]
     },
     "execution_count": 2,
     "metadata": {},
     "output_type": "execute_result"
    }
   ],
   "source": [
    "#% chat openai\n",
    "\n",
    "Implement the function alle_quersummen_up_to(m) that returns all numbers smaller m that are divisible by the digit sum.\n",
    "\n",
    "```python\n",
    "def is_divisible_by_digit_sum(n):\n",
    "    return n % sum(int(digit) for digit in str(n)) == 0\n",
    "\n",
    "def alle_quersummen_up_to(m):\n",
    "    pass\n",
    "\n",
    "```"
   ]
  },
  {
   "cell_type": "markdown",
   "id": "3bcf6af8-37c8-4f78-b687-850c34c458f7",
   "metadata": {},
   "source": [
    "# Lösung\n",
    "```python\n",
    "def is_divisible_by_digit_sum(n):\n",
    "    return n % sum(int(digit) for digit in str(n)) == 0\n",
    "\n",
    "def alle_quersummen_up_to(m):\n",
    "    return [num for num in range(1, m) if is_divisible_by_digit_sum(num)]\n",
    "\n",
    "print(alle_quersummen_up_to(100))\n",
    "```"
   ]
  }
 ],
 "metadata": {
  "kernelspec": {
   "display_name": "RakuChatbook",
   "language": "raku",
   "name": "chatbook"
  },
  "language_info": {
   "file_extension": ".raku",
   "mimetype": "text/x-raku",
   "name": "raku",
   "version": "6.d"
  },
  "widgets": {
   "application/vnd.jupyter.widget-state+json": {
    "state": {},
    "version_major": 2,
    "version_minor": 0
   }
  }
 },
 "nbformat": 4,
 "nbformat_minor": 5
}
