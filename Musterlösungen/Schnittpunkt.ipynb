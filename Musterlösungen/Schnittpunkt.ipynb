{
 "cells": [
  {
   "cell_type": "markdown",
   "id": "0dc03c16-6c83-4772-8afa-e4c230917272",
   "metadata": {},
   "source": [
    "# Aufgabe Schnittpunkt"
   ]
  },
  {
   "cell_type": "code",
   "execution_count": 1,
   "id": "246830df-ba32-4fcb-8dc5-cff42f9e1d68",
   "metadata": {},
   "outputs": [
    {
     "data": {
      "text/plain": [
       "Chat object created with ID : openai.\n",
       "Expanded prompt:\n",
       "⎡You are Code Writer and as the coder that you are, you provide clear and concise code only, without explanation nor conversation. \n",
       "Your job is to output code with no accompanying text.\n",
       "Do not explain any code unless asked. Do not provide summaries unless asked.\n",
       "You are the best Python programmer in the world but do not converse.\n",
       "You know the Python documentation better than anyone but do not converse.\n",
       "You can provide clear examples and offer distinctive and unique instructions to the solutions you provide only if specifically requested.\n",
       "Only code in Python unless told otherwise.\n",
       "Unless they ask, you will only give code.⎦"
      ]
     },
     "execution_count": 1,
     "metadata": {},
     "output_type": "execute_result"
    }
   ],
   "source": [
    "#% chat openai prompt, conf = 'ChatOpenAI', model=gpt-3.5-turbo, max-tokens=4096, temperature=0.2\n",
    "@CodeWriterX|Python"
   ]
  },
  {
   "cell_type": "code",
   "execution_count": 2,
   "id": "c0b6553d-89b2-42a8-87bf-77ec5a45a365",
   "metadata": {},
   "outputs": [
    {
     "data": {
      "text/plain": [
       "```python\n",
       "def calculate_intersection_point(line1, line2):\n",
       "    x1, y1, m1 = line1\n",
       "    x2, y2, m2 = line2\n",
       "    x = (y2 - y1 + m1*x1 - m2*x2) / (m1 - m2)\n",
       "    y = m1 * (x - x1) + y1\n",
       "    return x, y\n",
       "```"
      ]
     },
     "execution_count": 2,
     "metadata": {},
     "output_type": "execute_result"
    }
   ],
   "source": [
    "#% chat openai\n",
    "\n",
    "Schreibe eine Funktion, die den Schnittpunkt von zwei Geraden im euklidischen Koordinatensystem berechnet."
   ]
  },
  {
   "cell_type": "markdown",
   "id": "4280280f-f1c2-4d64-a674-d3bc04c868d9",
   "metadata": {},
   "source": [
    "Da stimmt doch etwas nicht. Was wir sofort sehen, ist die Division durch 0 (```/ (m1 - m2)```), wenn der Schnittpunkt von zwei Geraden mit identischer Steigung gesucht wird."
   ]
  },
  {
   "cell_type": "code",
   "execution_count": 4,
   "id": "3214749e-1016-4105-9c7b-0b2b1664c967",
   "metadata": {},
   "outputs": [
    {
     "data": {
      "text/plain": [
       "```python\n",
       "# Test case 1: Parallel lines\n",
       "line1 = (0, 0, 2)  # y = 2x\n",
       "line2 = (0, 1, 2)  # y = 2x + 1\n",
       "# No intersection point, expect (None, None)\n",
       "\n",
       "# Test case 2: Intersecting lines\n",
       "line1 = (1, 2, 1)  # y = x + 2\n",
       "line2 = (0, 1, -1)  # y = -x + 1\n",
       "# Intersection point at (1, 3)\n",
       "\n",
       "# Test case 3: Vertical line\n",
       "line1 = (2, 0, float('inf'))  # x = 2\n",
       "line2 = (3, 0, 2)  # y = 2x\n",
       "# Intersection point at (2, 4)\n",
       "```"
      ]
     },
     "execution_count": 4,
     "metadata": {},
     "output_type": "execute_result"
    }
   ],
   "source": [
    "#% chat openai\n",
    "\n",
    "Create test cases for\n",
    "\n",
    "def calculate_intersection_point(line1, line2):\n",
    "    x1, y1, m1 = line1\n",
    "    x2, y2, m2 = line2\n",
    "    if (m1 - m2) != 0:\n",
    "        x = (y2 - y1 + m1*x1 - m2*x2) / (m1 - m2)\n",
    "        y = m1 * (x - x1) + y1\n",
    "        return x, y\n",
    "    return (None, None)"
   ]
  },
  {
   "cell_type": "markdown",
   "id": "0bb45fc0-89df-4ec9-b1e2-b4f774fe83ba",
   "metadata": {},
   "source": [
    "OK, wenn wir den Code ausführen\n",
    "\n",
    "```python\n",
    "def calculate_intersection_point(line1, line2):\n",
    "    x1, y1, m1 = line1\n",
    "    x2, y2, m2 = line2\n",
    "    if (m1 - m2) != 0:\n",
    "        x = (y2 - y1 + m1*x1 - m2*x2) / (m1 - m2)\n",
    "        y = m1 * (x - x1) + y1\n",
    "        return x, y\n",
    "    return (None, None)\n",
    "\n",
    "# Test case 1: Parallel lines\n",
    "line1 = (0, 0, 2)  # y = 2x\n",
    "line2 = (0, 1, 2)  # y = 2x + 1\n",
    "# No intersection point, expect (None, None)\n",
    "print(calculate_intersection_point(line1, line2))\n",
    "\n",
    "# Test case 2: Intersecting lines\n",
    "line1 = (1, 2, 1)  # y = x + 2\n",
    "line2 = (0, 1, -1)  # y = -x + 1\n",
    "# Intersection point at (1, 3)\n",
    "print(calculate_intersection_point(line1, line2))\n",
    "\n",
    "# Test case 3: Vertical line\n",
    "line1 = (2, 0, float('inf'))  # x = 2\n",
    "line2 = (3, 0, 2)  # y = 2x\n",
    "# Intersection point at (2, 4)\n",
    "print(calculate_intersection_point(line1, line2))\n",
    "```\n",
    "\n",
    "erhalten wir nur für den ersten Testfall das korrekte Ergebnis. Was läuft bei Test Case 2 und 3 schief? Versuchen wir doch mal ein besseres Model."
   ]
  },
  {
   "cell_type": "code",
   "execution_count": 7,
   "id": "df61b476-9c1c-4600-a29f-ffb41e9e8d6d",
   "metadata": {},
   "outputs": [
    {
     "data": {
      "text/plain": [
       "Chat object created with ID : openai4.\n",
       "Expanded prompt:\n",
       "⎡You are Code Writer and as the coder that you are, you provide clear and concise code only, without explanation nor conversation. \n",
       "Your job is to output code with no accompanying text.\n",
       "Do not explain any code unless asked. Do not provide summaries unless asked.\n",
       "You are the best Python programmer in the world but do not converse.\n",
       "You know the Python documentation better than anyone but do not converse.\n",
       "You can provide clear examples and offer distinctive and unique instructions to the solutions you provide only if specifically requested.\n",
       "Only code in Python unless told otherwise.\n",
       "Unless they ask, you will only give code.⎦"
      ]
     },
     "execution_count": 7,
     "metadata": {},
     "output_type": "execute_result"
    }
   ],
   "source": [
    "#% chat openai4 prompt, conf = 'ChatOpenAI', model=gpt-4, max-tokens=4096, temperature=0.2\n",
    "@CodeWriterX|Python"
   ]
  },
  {
   "cell_type": "code",
   "execution_count": 9,
   "id": "508d1bfa-bddc-4391-b392-93ae327fcb4d",
   "metadata": {},
   "outputs": [
    {
     "data": {
      "text/plain": [
       "```python\n",
       "def line_intersection(line1, line2):\n",
       "    xdiff = (line1[0][0] - line1[1][0], line2[0][0] - line2[1][0])\n",
       "    ydiff = (line1[0][1] - line1[1][1], line2[0][1] - line2[1][1])\n",
       "\n",
       "    def det(a, b):\n",
       "        return a[0] * b[1] - a[1] * b[0]\n",
       "\n",
       "    div = det(xdiff, ydiff)\n",
       "    if div == 0:\n",
       "       raise Exception('lines do not intersect')\n",
       "\n",
       "    d = (det(*line1), det(*line2))\n",
       "    x = det(d, xdiff) / div\n",
       "    y = det(d, ydiff) / div\n",
       "    return x, y\n",
       "```"
      ]
     },
     "execution_count": 9,
     "metadata": {},
     "output_type": "execute_result"
    }
   ],
   "source": [
    "#% chat openai4\n",
    "\n",
    "Schreibe eine Funktion, die den Schnittpunkt von zwei Geraden im euklidischen Koordinatensystem berechnet."
   ]
  },
  {
   "cell_type": "markdown",
   "id": "17e01f11-fdc2-4ad2-adde-830b5c3e44fa",
   "metadata": {},
   "source": [
    "OK, das ist jetzt eine Methode, von der haben wir noch nie gehört."
   ]
  },
  {
   "cell_type": "code",
   "execution_count": 11,
   "id": "7a0f6ba7-edcb-4aa5-897b-162fdea0f3c9",
   "metadata": {},
   "outputs": [
    {
     "data": {
      "text/plain": [
       "```python\n",
       "def find_intersection(line1, line2):\n",
       "    # Unpack the coordinates of line1 and line2\n",
       "    x1, y1, x2, y2 = line1\n",
       "    x3, y3, x4, y4 = line2\n",
       "\n",
       "    # Calculate the denominator part of the formula\n",
       "    denominator = (x1 - x2) * (y3 - y4) - (y1 - y2) * (x3 - x4)\n",
       "\n",
       "    # If denominator is zero, lines are parallel and there's no intersection\n",
       "    if denominator == 0:\n",
       "        return None\n",
       "\n",
       "    # Calculate the x and y coordinates of the intersection point\n",
       "    x = ((x1 * y2 - y1 * x2) * (x3 - x4) - (x1 - x2) * (x3 * y4 - y3 * x4)) / denominator\n",
       "    y = ((x1 * y2 - y1 * x2) * (y3 - y4) - (y1 - y2) * (x3 * y4 - y3 * x4)) / denominator\n",
       "\n",
       "    return x, y\n",
       "```"
      ]
     },
     "execution_count": 11,
     "metadata": {},
     "output_type": "execute_result"
    }
   ],
   "source": [
    "#% chat openai4\n",
    "Create code that can be understand by a high school student"
   ]
  },
  {
   "cell_type": "code",
   "execution_count": 12,
   "id": "5539400a-cc23-44bd-a4ac-7d51f477b963",
   "metadata": {},
   "outputs": [
    {
     "data": {
      "text/plain": [
       "```python\n",
       "print(find_intersection((0, 0, 1, 1), (0, 1, 1, 0)))  # (0.5, 0.5)\n",
       "print(find_intersection((2, 3, 3, 2), (2, 2, 3, 3)))  # (2.5, 2.5)\n",
       "print(find_intersection((1, 4, 6, 1), (1, 1, 6, 4)))  # (3.5, 2.5)\n",
       "print(find_intersection((0, 0, 5, 5), (0, 5, 5, 0)))  # (2.5, 2.5)\n",
       "print(find_intersection((1, 1, 2, 2), (1, 2, 2, 1)))  # (1.5, 1.5)\n",
       "print(find_intersection((2, 2, 3, 3), (2, 3, 3, 2)))  # (2.5, 2.5)\n",
       "print(find_intersection((3, 3, 4, 4), (3, 4, 4, 3)))  # (3.5, 3.5)\n",
       "```"
      ]
     },
     "execution_count": 12,
     "metadata": {},
     "output_type": "execute_result"
    }
   ],
   "source": [
    "#% chat openai4\n",
    "Create 7 test cases"
   ]
  },
  {
   "cell_type": "code",
   "execution_count": 13,
   "id": "0df73dec-5c92-4b76-b59b-734cf8abd806",
   "metadata": {},
   "outputs": [
    {
     "data": {
      "text/plain": [
       "```python\n",
       "assert find_intersection((0, 0, 1, 1), (0, 1, 1, 0)) == (0.5, 0.5)\n",
       "assert find_intersection((2, 3, 3, 2), (2, 2, 3, 3)) == (2.5, 2.5)\n",
       "assert find_intersection((1, 4, 6, 1), (1, 1, 6, 4)) == (3.5, 2.5)\n",
       "assert find_intersection((0, 0, 5, 5), (0, 5, 5, 0)) == (2.5, 2.5)\n",
       "assert find_intersection((1, 1, 2, 2), (1, 2, 2, 1)) == (1.5, 1.5)\n",
       "assert find_intersection((2, 2, 3, 3), (2, 3, 3, 2)) == (2.5, 2.5)\n",
       "assert find_intersection((3, 3, 4, 4), (3, 4, 4, 3)) == (3.5, 3.5)\n",
       "```"
      ]
     },
     "execution_count": 13,
     "metadata": {},
     "output_type": "execute_result"
    }
   ],
   "source": [
    "#% chat openai4\n",
    "Use assert instead of print in the test cases"
   ]
  },
  {
   "cell_type": "code",
   "execution_count": 14,
   "id": "c8197030-9415-4f71-a3a8-e00c22210cd4",
   "metadata": {},
   "outputs": [
    {
     "data": {
      "text/plain": [
       "```python\n",
       "def find_intersection(line1, line2):\n",
       "    # Unpack the point and gradient of line1 and line2\n",
       "    x1, y1, m1 = line1\n",
       "    x2, y2, m2 = line2\n",
       "\n",
       "    # If gradients are equal, lines are parallel and there's no intersection\n",
       "    if m1 == m2:\n",
       "        return None\n",
       "\n",
       "    # Calculate the x coordinate of the intersection point\n",
       "    x = (m1*x1 - y1 - m2*x2 + y2) / (m1 - m2)\n",
       "\n",
       "    # Calculate the y coordinate of the intersection point using the equation of line1\n",
       "    y = m1 * (x - x1) + y1\n",
       "\n",
       "    return x, y\n",
       "```"
      ]
     },
     "execution_count": 14,
     "metadata": {},
     "output_type": "execute_result"
    }
   ],
   "source": [
    "#% chat openai4\n",
    "Convert find_intersection() to expect line definition consisting of one point and gradient"
   ]
  },
  {
   "cell_type": "code",
   "execution_count": 15,
   "id": "0cff3bb4-7ee8-45f9-a284-ce9980cc0b20",
   "metadata": {},
   "outputs": [
    {
     "data": {
      "text/plain": [
       "```python\n",
       "assert find_intersection((0, 0, 1), (0, 1, -1)) == (0.5, 0.5)\n",
       "assert find_intersection((2, 3, -1), (2, 2, 1)) == (2.5, 2.5)\n",
       "assert find_intersection((1, 4, -1), (1, 1, 1)) == (2.5, 2.5)\n",
       "assert find_intersection((0, 0, 1), (0, 5, -1)) == (2.5, 2.5)\n",
       "assert find_intersection((1, 1, 1), (1, 2, -1)) == (1.5, 1.5)\n",
       "assert find_intersection((2, 2, 1), (2, 3, -1)) == (2.5, 2.5)\n",
       "assert find_intersection((3, 3, 1), (3, 4, -1)) == (3.5, 3.5)\n",
       "```"
      ]
     },
     "execution_count": 15,
     "metadata": {},
     "output_type": "execute_result"
    }
   ],
   "source": [
    "#% chat openai4\n",
    "Create 7 test cases using assert"
   ]
  },
  {
   "cell_type": "markdown",
   "id": "bf9a6d35-955e-4182-8287-a3532810e73e",
   "metadata": {},
   "source": [
    "Lösung\n",
    "\n",
    "```python\n",
    "def find_intersection(line1, line2):\n",
    "\t# Unpack the point and gradient of line1 and line2\n",
    "\tx1, y1, m1 = line1\n",
    "\tx2, y2, m2 = line2\n",
    "\n",
    "\t# If gradients are equal, lines are parallel and there's no intersection\n",
    "\tif m1 == m2:\n",
    "\t    return None\n",
    "\n",
    "\t# Calculate the x coordinate of the intersection point\n",
    "\tx = (m1*x1 - y1 - m2*x2 + y2) / (m1 - m2)\n",
    "\n",
    "\t# Calculate the y coordinate of the intersection point using the equation of line1\n",
    "\ty = m1 * (x - x1) + y1\n",
    "\n",
    "\treturn x, y\n",
    "\n",
    "assert find_intersection((0, 0, 1), (0, 1, -1)) == (0.5, 0.5)\n",
    "assert find_intersection((2, 3, -1), (2, 2, 1)) == (2.5, 2.5)\n",
    "assert find_intersection((1, 4, -1), (1, 1, 1)) == (2.5, 2.5)\n",
    "assert find_intersection((0, 0, 1), (0, 5, -1)) == (2.5, 2.5)\n",
    "assert find_intersection((1, 1, 1), (1, 2, -1)) == (1.5, 1.5)\n",
    "assert find_intersection((2, 2, 1), (2, 3, -1)) == (2.5, 2.5)\n",
    "assert find_intersection((3, 3, 1), (3, 4, -1)) == (3.5, 3.5)\n",
    "\n",
    "```"
   ]
  }
 ],
 "metadata": {
  "kernelspec": {
   "display_name": "RakuChatbook",
   "language": "raku",
   "name": "chatbook"
  },
  "language_info": {
   "file_extension": ".raku",
   "mimetype": "text/x-raku",
   "name": "raku",
   "version": "6.d"
  },
  "widgets": {
   "application/vnd.jupyter.widget-state+json": {
    "state": {},
    "version_major": 2,
    "version_minor": 0
   }
  }
 },
 "nbformat": 4,
 "nbformat_minor": 5
}
