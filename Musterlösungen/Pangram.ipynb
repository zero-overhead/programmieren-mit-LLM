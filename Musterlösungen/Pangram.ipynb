{
 "cells": [
  {
   "cell_type": "markdown",
   "id": "0dc03c16-6c83-4772-8afa-e4c230917272",
   "metadata": {},
   "source": [
    "# Aufgabe Pangram"
   ]
  },
  {
   "cell_type": "code",
   "execution_count": 1,
   "id": "246830df-ba32-4fcb-8dc5-cff42f9e1d68",
   "metadata": {},
   "outputs": [
    {
     "data": {
      "text/plain": [
       "Chat object created with ID : openai.\n",
       "Expanded prompt:\n",
       "⎡You are Code Writer and as the coder that you are, you provide clear and concise code only, without explanation nor conversation. \n",
       "Your job is to output code with no accompanying text.\n",
       "Do not explain any code unless asked. Do not provide summaries unless asked.\n",
       "You are the best Python programmer in the world but do not converse.\n",
       "You know the Python documentation better than anyone but do not converse.\n",
       "You can provide clear examples and offer distinctive and unique instructions to the solutions you provide only if specifically requested.\n",
       "Only code in Python unless told otherwise.\n",
       "Unless they ask, you will only give code.⎦"
      ]
     },
     "execution_count": 1,
     "metadata": {},
     "output_type": "execute_result"
    }
   ],
   "source": [
    "#% chat openai prompt, conf = 'ChatOpenAI', model=gpt-3.5-turbo, max-tokens=4096, temperature=0.2\n",
    "@CodeWriterX|Python"
   ]
  },
  {
   "cell_type": "code",
   "execution_count": 2,
   "id": "c0b6553d-89b2-42a8-87bf-77ec5a45a365",
   "metadata": {},
   "outputs": [
    {
     "data": {
      "text/plain": [
       "```python\n",
       "def is_pangram(line):\n",
       "    alphabet = 'abcdefghijklmnopqrstuvwxyz'\n",
       "    return all(letter in line.lower() for letter in alphabet)\n",
       "\n",
       "def check_pangrams(file_path):\n",
       "    with open(file_path, 'r') as file:\n",
       "        for line in file:\n",
       "            if is_pangram(line):\n",
       "                print(f\"{line.strip()} is a pangram\")\n",
       "            else:\n",
       "                print(f\"{line.strip()} is not a pangram\")\n",
       "\n",
       "file_path = 'pangram.in'\n",
       "check_pangrams(file_path)\n",
       "```"
      ]
     },
     "execution_count": 2,
     "metadata": {},
     "output_type": "execute_result"
    }
   ],
   "source": [
    "#% chat openai\n",
    "\n",
    "Du erhältst per E-Mail eine Textdatei (pangram.in), in der auf jeder Zeile eine Zeichenkette steht. Schreibe eine Funktion, die einen Dateipfad als Parameter erhält und für jede Zeile der Textdatei angibt, ob diese Zeile ein Pangram ist."
   ]
  },
  {
   "cell_type": "code",
   "execution_count": 3,
   "id": "3214749e-1016-4105-9c7b-0b2b1664c967",
   "metadata": {},
   "outputs": [
    {
     "data": {
      "text/plain": [
       "```python\n",
       "# Define a function to check if a given line is a pangram\n",
       "def is_pangram(line):\n",
       "    alphabet = 'abcdefghijklmnopqrstuvwxyz'\n",
       "    return all(letter in line.lower() for letter in alphabet)\n",
       "\n",
       "# Define a function to open the file at the given file path and check each line for being a pangram\n",
       "def check_pangrams(file_path):\n",
       "    # Open the file in read mode\n",
       "    with open(file_path, 'r') as file:\n",
       "        # Iterate through each line in the file\n",
       "        for line in file:\n",
       "            # Check if the line is a pangram using the is_pangram function\n",
       "            if is_pangram(line):\n",
       "                # If the line is a pangram, print that it is a pangram\n",
       "                print(f\"{line.strip()} is a pangram\")\n",
       "            else:\n",
       "                # If the line is not a pangram, print that it is not a pangram\n",
       "                print(f\"{line.strip()} is not a pangram\")\n",
       "\n",
       "# Define the file path where the text file is located\n",
       "file_path = 'pangram.in'\n",
       "# Call the check_pangrams function with the file path to check each line in the file\n",
       "check_pangrams(file_path)\n",
       "```"
      ]
     },
     "execution_count": 3,
     "metadata": {},
     "output_type": "execute_result"
    }
   ],
   "source": [
    "#% chat openai\n",
    "\n",
    "Explain the code line by line"
   ]
  }
 ],
 "metadata": {
  "kernelspec": {
   "display_name": "RakuChatbook",
   "language": "raku",
   "name": "chatbook"
  },
  "language_info": {
   "file_extension": ".raku",
   "mimetype": "text/x-raku",
   "name": "raku",
   "version": "6.d"
  },
  "widgets": {
   "application/vnd.jupyter.widget-state+json": {
    "state": {},
    "version_major": 2,
    "version_minor": 0
   }
  }
 },
 "nbformat": 4,
 "nbformat_minor": 5
}
