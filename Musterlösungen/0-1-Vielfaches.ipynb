{
 "cells": [
  {
   "cell_type": "markdown",
   "id": "0dc03c16-6c83-4772-8afa-e4c230917272",
   "metadata": {},
   "source": [
    "# Aufgabe 0-1-Vielfaches"
   ]
  },
  {
   "cell_type": "code",
   "execution_count": 2,
   "id": "246830df-ba32-4fcb-8dc5-cff42f9e1d68",
   "metadata": {},
   "outputs": [
    {
     "data": {
      "text/plain": [
       "Chat object created with ID : openai.\n",
       "Expanded prompt:\n",
       "⎡You are Code Writer and as the coder that you are, you provide clear and concise code only, without explanation nor conversation. \n",
       "Your job is to output code with no accompanying text.\n",
       "Do not explain any code unless asked. Do not provide summaries unless asked.\n",
       "You are the best Python programmer in the world but do not converse.\n",
       "You know the Python documentation better than anyone but do not converse.\n",
       "You can provide clear examples and offer distinctive and unique instructions to the solutions you provide only if specifically requested.\n",
       "Only code in Python unless told otherwise.\n",
       "Unless they ask, you will only give code.⎦"
      ]
     },
     "execution_count": 2,
     "metadata": {},
     "output_type": "execute_result"
    }
   ],
   "source": [
    "#% chat openai prompt, conf = 'ChatOpenAI', model=gpt-3.5-turbo, max-tokens=4096, temperature=0.2\n",
    "@CodeWriterX|Python"
   ]
  },
  {
   "cell_type": "code",
   "execution_count": 3,
   "id": "c0b6553d-89b2-42a8-87bf-77ec5a45a365",
   "metadata": {},
   "outputs": [
    {
     "data": {
      "text/plain": [
       "```python\n",
       "def smallest_multiple(n):\n",
       "    if n == 1:\n",
       "        return 1\n",
       "    \n",
       "    queue = [1]\n",
       "    visited = set()\n",
       "    \n",
       "    while queue:\n",
       "        num = queue.pop(0)\n",
       "        remainder = num % n\n",
       "        \n",
       "        if remainder == 0:\n",
       "            return num\n",
       "        \n",
       "        visited.add(remainder)\n",
       "        \n",
       "        next_num1 = num * 10\n",
       "        next_num2 = num * 10 + 1\n",
       "        \n",
       "        if next_num1 not in visited:\n",
       "            queue.append(next_num1)\n",
       "        if next_num2 not in visited:\n",
       "            queue.append(next_num2)\n",
       "\n",
       "# Test\n",
       "print(smallest_multiple(55))  # Output: 110\n",
       "```"
      ]
     },
     "execution_count": 3,
     "metadata": {},
     "output_type": "execute_result"
    }
   ],
   "source": [
    "#% chat openai\n",
    "\n",
    "Schreibe eine Funktion, die für eine natürliche Zahl als Eingabe das kleinste Vielfache berechnet, welches nur aus den Ziffern 0 und 1 besteht. Überprüfe deine Lösung mit Hilfe von Tests.\n",
    "\n",
    "Beispielsweise wird für 55 als Eingabe 110 als Ausgabe erwartet."
   ]
  },
  {
   "cell_type": "markdown",
   "id": "b30100f4-b021-40d0-af6d-602c2f88e10f",
   "metadata": {},
   "source": [
    "Das scheint etwas zu kompliziert."
   ]
  },
  {
   "cell_type": "code",
   "execution_count": 4,
   "id": "3214749e-1016-4105-9c7b-0b2b1664c967",
   "metadata": {},
   "outputs": [
    {
     "data": {
      "text/plain": [
       "```python\n",
       "def smallest_multiple(n):\n",
       "    if n == 1:\n",
       "        return 1\n",
       "    \n",
       "    num = 1\n",
       "    for i in range(1, n+1):\n",
       "        num %= n\n",
       "        if num == 0:\n",
       "            return i\n",
       "        num = num*10 + 1\n",
       "\n",
       "# Test\n",
       "print(smallest_multiple(55))  # Output: 110\n",
       "```"
      ]
     },
     "execution_count": 4,
     "metadata": {},
     "output_type": "execute_result"
    }
   ],
   "source": [
    "#% chat openai\n",
    "\n",
    "Simplify and use for loop"
   ]
  },
  {
   "cell_type": "markdown",
   "id": "8defe61f-6019-421a-833b-e4b471d135d5",
   "metadata": {},
   "source": [
    "Die Logic stimmt nicht, es kann doch nicht eine obere Schranke geben."
   ]
  },
  {
   "cell_type": "code",
   "execution_count": 5,
   "id": "ac937574-4d47-49e4-8741-00fbf44ad037",
   "metadata": {},
   "outputs": [
    {
     "data": {
      "text/plain": [
       "```python\n",
       "def smallest_multiple(n):\n",
       "    if n == 1:\n",
       "        return 1\n",
       "    \n",
       "    num = 1\n",
       "    i = 1\n",
       "    while num % n != 0:\n",
       "        num %= n\n",
       "        num = num*10 + 1\n",
       "        i += 1\n",
       "    \n",
       "    return i\n",
       "\n",
       "# Test\n",
       "print(smallest_multiple(55))  # Output: 110\n",
       "```"
      ]
     },
     "execution_count": 5,
     "metadata": {},
     "output_type": "execute_result"
    }
   ],
   "source": [
    "#% chat openai\n",
    "\n",
    "Simplify and use while loop"
   ]
  },
  {
   "cell_type": "markdown",
   "id": "9bb0d012-b594-49b7-aac0-ca2ac1902901",
   "metadata": {},
   "source": [
    "OK, dann in zwei Schritten"
   ]
  },
  {
   "cell_type": "code",
   "execution_count": 6,
   "id": "20faae71-8b4d-4063-8e06-1a4d9930ac1e",
   "metadata": {},
   "outputs": [
    {
     "data": {
      "text/plain": [
       "```python\n",
       "def loop_through_digits(n):\n",
       "    for digit in str(n):\n",
       "        print(digit)\n",
       "\n",
       "# Test\n",
       "loop_through_digits(12345)\n",
       "```"
      ]
     },
     "execution_count": 6,
     "metadata": {},
     "output_type": "execute_result"
    }
   ],
   "source": [
    "#% chat openai\n",
    "\n",
    "Create a function that loops through all numbers of an integer"
   ]
  },
  {
   "cell_type": "code",
   "execution_count": 8,
   "id": "097a7b31-3273-4f84-ae26-67111b83b8ef",
   "metadata": {},
   "outputs": [
    {
     "data": {
      "text/plain": [
       "```python\n",
       "def calculate_infinitely_many_multiples(n):\n",
       "    multiples = []\n",
       "    i = 1\n",
       "    while True:\n",
       "        multiple = n * i\n",
       "        multiples.append(multiple)\n",
       "        i += 1\n",
       "        if i > 10:  # Limit to 10 multiples for demonstration\n",
       "            break\n",
       "    return multiples\n",
       "\n",
       "# Test\n",
       "print(calculate_infinitely_many_multiples(5))  # Output: [5, 10, 15, 20, 25, 30, 35, 40, 45, 50]\n",
       "```"
      ]
     },
     "execution_count": 8,
     "metadata": {},
     "output_type": "execute_result"
    }
   ],
   "source": [
    "#% chat openai\n",
    "\n",
    "Create a function that calculates all infinitely many multiples of an integer using a while loop"
   ]
  },
  {
   "cell_type": "markdown",
   "id": "5edf2df9-177c-4e05-9add-ad148e6744e1",
   "metadata": {},
   "source": [
    "OK, aus diesen gesammelten Ideen und Versatzstücken können wir eine finale Lösung zusammenbauen.\n",
    "\n",
    "```python\n",
    "def smallest_multiple(n):\n",
    "    i = 1\n",
    "    while True:\n",
    "        valid = True\n",
    "\n",
    "        multiple = n * i\n",
    "        i = i + 1\n",
    "\n",
    "        for digit in str(multiple):\n",
    "            if(digit != \"0\" and digit != \"1\"):\n",
    "                valid = False\n",
    "                break\n",
    "        if valid:\n",
    "            return multiple\n",
    "\n",
    "# Test\n",
    "assert smallest_multiple(55) == 110\n",
    "assert smallest_multiple(12) == 11100\n",
    "```"
   ]
  }
 ],
 "metadata": {
  "kernelspec": {
   "display_name": "RakuChatbook",
   "language": "raku",
   "name": "chatbook"
  },
  "language_info": {
   "file_extension": ".raku",
   "mimetype": "text/x-raku",
   "name": "raku",
   "version": "6.d"
  },
  "widgets": {
   "application/vnd.jupyter.widget-state+json": {
    "state": {},
    "version_major": 2,
    "version_minor": 0
   }
  }
 },
 "nbformat": 4,
 "nbformat_minor": 5
}
