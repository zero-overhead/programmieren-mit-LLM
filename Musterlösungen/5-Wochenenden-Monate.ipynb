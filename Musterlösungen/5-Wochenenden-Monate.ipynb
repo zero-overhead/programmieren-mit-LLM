{
 "cells": [
  {
   "cell_type": "markdown",
   "id": "0dc03c16-6c83-4772-8afa-e4c230917272",
   "metadata": {},
   "source": [
    "# Aufgabe 5-Wochenenden-Monate"
   ]
  },
  {
   "cell_type": "code",
   "execution_count": 1,
   "id": "246830df-ba32-4fcb-8dc5-cff42f9e1d68",
   "metadata": {},
   "outputs": [
    {
     "data": {
      "text/plain": [
       "Chat object created with ID : openai.\n",
       "Expanded prompt:\n",
       "⎡You are Code Writer and as the coder that you are, you provide clear and concise code only, without explanation nor conversation. \n",
       "Your job is to output code with no accompanying text.\n",
       "Do not explain any code unless asked. Do not provide summaries unless asked.\n",
       "You are the best Python programmer in the world but do not converse.\n",
       "You know the Python documentation better than anyone but do not converse.\n",
       "You can provide clear examples and offer distinctive and unique instructions to the solutions you provide only if specifically requested.\n",
       "Only code in Python unless told otherwise.\n",
       "Unless they ask, you will only give code.⎦"
      ]
     },
     "execution_count": 1,
     "metadata": {},
     "output_type": "execute_result"
    }
   ],
   "source": [
    "#% chat openai prompt, conf = 'ChatOpenAI', model=gpt-3.5-turbo, max-tokens=4096, temperature=0.2\n",
    "@CodeWriterX|Python"
   ]
  },
  {
   "cell_type": "code",
   "execution_count": 2,
   "id": "c0b6553d-89b2-42a8-87bf-77ec5a45a365",
   "metadata": {},
   "outputs": [
    {
     "data": {
      "text/plain": [
       "```python\n",
       "import calendar\n",
       "\n",
       "def find_five_weekend_months(year):\n",
       "    five_weekend_months = []\n",
       "    for month in range(1, 13):\n",
       "        if calendar.monthrange(year, month)[0] == 4 and calendar.monthrange(year, month)[1] == 5:\n",
       "            five_weekend_months.append(calendar.month_name[month])\n",
       "    return five_weekend_months\n",
       "\n",
       "# Beispielaufruf\n",
       "year = 2022\n",
       "print(find_five_weekend_months(year))\n",
       "```"
      ]
     },
     "execution_count": 2,
     "metadata": {},
     "output_type": "execute_result"
    }
   ],
   "source": [
    "#% chat openai\n",
    "\n",
    "Schreibe eine Funktion, die alle 5-Wochenenden-Monate eines gegebenen Jahres findet. Ein 5-Wochenenden-Monat ist ein Monat mit 5 Freitagen, 5 Samstagen und 5 Sonntagen. "
   ]
  },
  {
   "cell_type": "markdown",
   "id": "6340867a-5e59-47ae-9b5d-60c927d400cf",
   "metadata": {},
   "source": [
    "OK, das hat scheinbar nicht so gut funktioniert. Wenn du das ausprobierst, funktioniert es nicht."
   ]
  },
  {
   "cell_type": "code",
   "execution_count": 3,
   "id": "b3fe4879-fe12-45ab-a16e-d2a416551a58",
   "metadata": {},
   "outputs": [
    {
     "data": {
      "text/plain": [
       "```python\n",
       "# calendar.monthrange(year, month) returns a tuple (weekday of the first day of the month, number of days in the month).\n",
       "# The weekday is a number (0-6) representing the day of the week (0 is Monday, 6 is Sunday).\n",
       "```"
      ]
     },
     "execution_count": 3,
     "metadata": {},
     "output_type": "execute_result"
    }
   ],
   "source": [
    "#% chat openai\n",
    "\n",
    "Explain ```calendar.monthrange```"
   ]
  },
  {
   "cell_type": "markdown",
   "id": "1068392d-fe26-4aef-8f64-f7828aadae19",
   "metadata": {},
   "source": [
    "What? Jetzt ist guter Rat teuer.\n",
    "\n",
    "Tipp: um zu verstehen, was falsch ist, musst du die Zeile ```if calendar.monthrange(year, month)[0] == 4 and calendar.monthrange(year, month)[1] == 5``` verstehen und wissen, was ein Tuple ist."
   ]
  },
  {
   "cell_type": "code",
   "execution_count": 4,
   "id": "b511e49a-0da9-4e09-ae0a-1bbe67d3dce5",
   "metadata": {},
   "outputs": [
    {
     "data": {
      "text/plain": [
       "```python\n",
       "# A tuple is an immutable ordered collection of elements enclosed within parentheses ().\n",
       "# Tuples are similar to lists but cannot be changed (immutable).\n",
       "```"
      ]
     },
     "execution_count": 4,
     "metadata": {},
     "output_type": "execute_result"
    }
   ],
   "source": [
    "#% chat openai\n",
    "\n",
    "What is a tuple?"
   ]
  },
  {
   "cell_type": "code",
   "execution_count": 5,
   "id": "4ae526e7-9536-4128-94f7-a74aa1877834",
   "metadata": {},
   "outputs": [
    {
     "data": {
      "text/plain": [
       "```python\n",
       "# Example 1: February 2022 starts on a Tuesday and has 28 days\n",
       "calendar.monthrange(2022, 2)  # Output: (1, 28)\n",
       "\n",
       "# Example 2: December 2022 starts on a Thursday and has 31 days\n",
       "calendar.monthrange(2022, 12)  # Output: (3, 31)\n",
       "```"
      ]
     },
     "execution_count": 5,
     "metadata": {},
     "output_type": "execute_result"
    }
   ],
   "source": [
    "#% chat openai\n",
    "\n",
    "Give examples for the tuple returned by calendar.monthrange"
   ]
  },
  {
   "cell_type": "markdown",
   "id": "2c998fb3-062e-439b-a455-0f0fad4e2c79",
   "metadata": {},
   "source": [
    "OK, jetzt wird es klarer. ```calendar.monthrange(year, month)[0]``` ist also der Wochentag, beginnend mit 0 bei Montag. Freitag ist also 4. ```and calendar.monthrange(year, month)[1] == 5``` macht in dem Zusammenhang also keinen Sinn, gemeint ist vermutlich\n",
    "\n",
    "```python\n",
    "if calendar.monthrange(year, month)[0] == 4 or calendar.monthrange(year, month)[0] == 5\n",
    "```\n",
    "\n",
    "also ob der erste Tag im Monat ein Freitag ODER Samstag ist. Interessanterweise sind die Zahlen auch als Konstanten definiert, nämlich ```calendar.FRIDAY``` und ```calendar.SATURDAY```, wie die [Dokumentation](https://docs.python.org/3/library/calendar.html#calendar.MONDAY) zeigt. Korrekt wäre also\n",
    "\n",
    "```python\n",
    "if calendar.monthrange(year, month)[0] == calendar.FRIDAY or calendar.monthrange(year, month)[0] == calendar.SATURDAY\n",
    "```\n"
   ]
  },
  {
   "cell_type": "code",
   "execution_count": 6,
   "id": "45fe89c6-b9ef-482c-8394-96706d34ee77",
   "metadata": {},
   "outputs": [
    {
     "data": {
      "text/plain": [
       "```python\n",
       "import calendar\n",
       "\n",
       "def find_five_weekend_months(year):\n",
       "    five_weekend_months = []\n",
       "    for month in range(1, 13):\n",
       "        if calendar.monthrange(year, month)[0] == calendar.FRIDAY and calendar.monthrange(year, month)[1] == 5:\n",
       "            five_weekend_months.append(calendar.month_name[month])\n",
       "    return five_weekend_months\n",
       "\n",
       "for year in range(2000, 2101):\n",
       "    result = find_five_weekend_months(year)\n",
       "    if result:\n",
       "        print(f\"Year {year}: {result}\")\n",
       "```"
      ]
     },
     "execution_count": 6,
     "metadata": {},
     "output_type": "execute_result"
    }
   ],
   "source": [
    "#% chat openai\n",
    "\n",
    "Nutze diese Funktion, um alle 5-Wochenenden-Monat für die Jahre 2000 bis 2100 zu berechnen.\n",
    "\n",
    "import calendar\n",
    "\n",
    "def find_five_weekend_months(year):\n",
    "    five_weekend_months = []\n",
    "    for month in range(1, 13):\n",
    "        if calendar.monthrange(year, month)[0] == calendar.FRIDAY or calendar.monthrange(year, month)[0] == calendar.SATURDAY:\n",
    "            five_weekend_months.append(calendar.month_name[month])\n",
    "    return five_weekend_months\n"
   ]
  },
  {
   "cell_type": "markdown",
   "id": "93725e85-96a6-4e8a-ba9d-85b32719f7e3",
   "metadata": {},
   "source": [
    "Da sind ja schon wieder Fehler drin! Nun gut, können wir ja auch manuell bereinigen.\n",
    "\n",
    "```python\n",
    "import calendar\n",
    "\n",
    "def find_five_weekend_months(year):\n",
    "    five_weekend_months = []\n",
    "    for month in range(1, 13):\n",
    "        if    calendar.monthrange(year, month)[0] == calendar.FRIDAY\n",
    "           or calendar.monthrange(year, month)[0] == calendar.SATURDAY:\n",
    "                 five_weekend_months.append(calendar.month_name[month])\n",
    "    return five_weekend_months\n",
    "\n",
    "for year in range(2000, 2101):\n",
    "    result = find_five_weekend_months(year)\n",
    "    if result:\n",
    "        print(f\"Year {year}: {result}\")\n",
    "```"
   ]
  }
 ],
 "metadata": {
  "kernelspec": {
   "display_name": "RakuChatbook",
   "language": "raku",
   "name": "chatbook"
  },
  "language_info": {
   "file_extension": ".raku",
   "mimetype": "text/x-raku",
   "name": "raku",
   "version": "6.d"
  },
  "widgets": {
   "application/vnd.jupyter.widget-state+json": {
    "state": {},
    "version_major": 2,
    "version_minor": 0
   }
  }
 },
 "nbformat": 4,
 "nbformat_minor": 5
}
