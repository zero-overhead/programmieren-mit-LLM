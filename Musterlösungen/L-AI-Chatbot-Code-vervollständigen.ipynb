{
 "cells": [
  {
   "cell_type": "markdown",
   "id": "8df0d090-0d4f-4878-a04d-b8c2a9195119",
   "metadata": {},
   "source": [
    "# AI-Chatbot Code vervollständigen\n",
    "\n",
    "Stopp! Hast du [AI-Chatbot-Tests-erstellen.ipynb](AI-Chatbot-Tests-erstellen.ipynb) erfolgreich bearbeitet?\n",
    "\n",
    "Wenn du ungefähr weisst, was du willst, kannst du Code-Fragmente vervollständigen lassen.\n",
    "\n",
    "__Aufgabe__: Schreibe eine Funktion in Python, die eine Zeichenkette als Eingabe hat und als Ausgabe diese Zeichenkette umgekehrt wieder ausgibt. Beispiel: umgekehrt(\"Hallo\") soll \"ollaH\" als Ausgabe liefern.\n",
    "\n",
    "Gehe wie folgt vor:\n",
    "\n",
    "0. Erstelle einen geeigneten Chatbot\n",
    "1. Definiere eine Funktion ```umgekehrt()``` mit einem Parameter ```zeichenkette``` und dem Funktionskörper ```pass```\n",
    "2. Erstelle 3 Tests für die Funktion ```umgekehrt()``` mittels ```assert```-Anweisung\n",
    "3. Vervollständige mit Hilfe eines Chatbots den Funktionskörper\n",
    "4. Erstelle mit Hilfe eines Chatbots 7 weitere Test\n",
    "5. Prüfe die Lösung\n",
    "\n"
   ]
  },
  {
   "cell_type": "markdown",
   "id": "94af668d-62e4-4c1f-a706-b406434754a9",
   "metadata": {},
   "source": [
    "__Lösung__:\n",
    "\n",
    "0. Erstellen wir also zunächst wieder einen Chatbot mit dem Modell ```gpt-3.5-turbo``` des Anbieters ```OpenAI``` bei einer Temperatur von ```0.2```, nennen diesen ```python-coder``` und nutzen den Prompt [CodeWriter](https://resources.wolframcloud.com/PromptRepository/resources/CodeWriter) von Wolfram Research."
   ]
  },
  {
   "cell_type": "code",
   "execution_count": 1,
   "id": "4b6c91f2-4112-4979-86bd-3ebc0c0c08f7",
   "metadata": {},
   "outputs": [
    {
     "data": {
      "text/plain": [
       "Understood."
      ]
     },
     "execution_count": 1,
     "metadata": {},
     "output_type": "execute_result"
    }
   ],
   "source": [
    "#% chat python-coder, conf = 'ChatOpenAI', model=gpt-3.5-turbo, max-tokens=4096, temperature=0.2\n",
    "You are Code Writer and as the coder that you are,\n",
    "you provide clear and concise code only, without explanation nor conversation.\n",
    "Your job is to output code with no accompanying text.\n",
    "Do not explain any code unless asked.\n",
    "Do not provide summaries unless asked.\n",
    "You are the best Python programmer in the world but do not converse.\n",
    "You know the Python documentation better than anyone but do not converse.\n",
    "You can provide clear examples and offer distinctive and unique instructions to the solutions you provide only if specifically requested.\n",
    "Only code in Python unless told otherwise.\n",
    "Unless they ask, you will only give code."
   ]
  },
  {
   "cell_type": "markdown",
   "id": "52217010-1b86-4a73-a311-82c87c71fa5a",
   "metadata": {},
   "source": [
    "1. Definiere die gewünschte Funktion:"
   ]
  },
  {
   "cell_type": "markdown",
   "id": "16ecc911-3898-4f08-aa79-5d56dbf9dd22",
   "metadata": {},
   "source": [
    "```python\n",
    "def umgekehrt(zeichenkette):\n",
    "  pass\n",
    "```"
   ]
  },
  {
   "cell_type": "markdown",
   "id": "d2b845ec-2349-4ec3-8002-f8c84e6d21a1",
   "metadata": {},
   "source": [
    "2. Erstelle 3 Tests:\n",
    "```python\n",
    "assert umgekehrt(\"Hallo\") == \"ollaH\"\n",
    "assert umgekehrt(\"Welt\") == \"tleW\"\n",
    "assert umgekehrt(\"\") == \"\"\n",
    "```"
   ]
  },
  {
   "cell_type": "markdown",
   "id": "2c57748a-904f-4483-a52b-926ede819633",
   "metadata": {},
   "source": [
    "3. Vervollständige mit Hilfe eines Chatbots den Funktionskörper."
   ]
  },
  {
   "cell_type": "code",
   "execution_count": 1,
   "id": "c9b8014a-a76d-4388-94b8-d5f3f109d89d",
   "metadata": {},
   "outputs": [
    {
     "data": {
      "text/plain": [
       "Here's the implementation of the ```umgekehrt()``` function:\n",
       "\n",
       "```python\n",
       "def umgekehrt(zeichenkette):\n",
       "    return zeichenkette[::-1]\n",
       "\n",
       "# Test cases\n",
       "assert umgekehrt(\"Hallo\") == \"ollaH\"\n",
       "assert umgekehrt(\"Welt\") == \"tleW\"\n",
       "assert umgekehrt(\"\") == \"\"\n",
       "```\n",
       "\n",
       "This function uses slicing with a step of -1 to reverse the given input string."
      ]
     },
     "execution_count": 1,
     "metadata": {},
     "output_type": "execute_result"
    }
   ],
   "source": [
    "#% chat python-coder\n",
    "Implement the function ```umgekehrt()``` which reverses the given input string such that the 3 test cases pass successfully.\n",
    "\n",
    "```python\n",
    "def umgekehrt(zeichenkette):\n",
    "  pass\n",
    "\n",
    "assert umgekehrt(\"Hallo\") == \"ollaH\"\n",
    "assert umgekehrt(\"Welt\") == \"tleW\"\n",
    "assert umgekehrt(\"\") == \"\"\n",
    "```"
   ]
  },
  {
   "cell_type": "markdown",
   "id": "0834c09e-9f8d-4330-a8a6-106d79602cca",
   "metadata": {},
   "source": [
    "4. Erstelle mit Hilfe eines Chatbots 7 weitere Test"
   ]
  },
  {
   "cell_type": "code",
   "execution_count": 2,
   "id": "cb8197a0-ce6b-4b23-9844-40daad3b9a24",
   "metadata": {},
   "outputs": [
    {
     "data": {
      "text/plain": [
       "Here are 7 additional test cases for the ```umgekehrt()``` function:\n",
       "\n",
       "```python\n",
       "def test_umgekehrt():\n",
       "    assert umgekehrt(\"Python\") == \"nohtyP\"\n",
       "    assert umgekehrt(\"Programming\") == \"gnimmargorP\"\n",
       "    assert umgekehrt(\"1234567890\") == \"0987654321\"\n",
       "    assert umgekehrt(\"racecar\") == \"racecar\"\n",
       "    assert umgekehrt(\"hello world\") == \"dlrow olleh\"\n",
       "    assert umgekehrt(\"madam\") == \"madam\"\n",
       "    assert umgekehrt(\"123\") == \"321\"\n",
       "\n",
       "test_umgekehrt()\n",
       "```\n",
       "\n",
       "These test cases cover a range of scenarios, including strings with numbers, palindromes, and spaces."
      ]
     },
     "execution_count": 2,
     "metadata": {},
     "output_type": "execute_result"
    }
   ],
   "source": [
    "#% chat python-coder\n",
    "Create 7 more testcases for the function ```umgekehrt()```.\n",
    "\n",
    "```python\n",
    "def umgekehrt(zeichenkette):\n",
    "    return zeichenkette[::-1]\n",
    "\n",
    "# Test cases\n",
    "assert umgekehrt(\"Hallo\") == \"ollaH\"\n",
    "assert umgekehrt(\"Welt\") == \"tleW\"\n",
    "assert umgekehrt(\"\") == \"\"\n",
    "```"
   ]
  },
  {
   "cell_type": "markdown",
   "id": "557de025-cc3a-4c33-8940-aaf5278715b7",
   "metadata": {},
   "source": [
    "5. Prüfe die Lösung\n",
    "\n",
    "Wir kombinieren nun alle Vorschläge unseres Chatbots zu einer Lösung.\n",
    "\n",
    "```python\n",
    "def umgekehrt(zeichenkette):\n",
    "    return zeichenkette[::-1]\n",
    "\n",
    "def test_umgekehrt():\n",
    "    assert umgekehrt(\"Hallo\") == \"ollaH\"\n",
    "    assert umgekehrt(\"Welt\") == \"tleW\"\n",
    "    assert umgekehrt(\"\") == \"\"\n",
    "    assert umgekehrt(\"Python\") == \"nohtyP\"\n",
    "    assert umgekehrt(\"Programming\") == \"gnimmargorP\"\n",
    "    assert umgekehrt(\"1234567890\") == \"0987654321\"\n",
    "    assert umgekehrt(\"racecar\") == \"racecar\"\n",
    "    assert umgekehrt(\"hello world\") == \"dlrow olleh\"\n",
    "    assert umgekehrt(\"madam\") == \"madam\"\n",
    "    assert umgekehrt(\"123\") == \"321\"\n",
    "\n",
    "test_umgekehrt()\n",
    "```\n",
    "\n",
    "Sieht gut aus - keine Fehler."
   ]
  }
 ],
 "metadata": {
  "kernelspec": {
   "display_name": "RakuChatbook",
   "language": "raku",
   "name": "chatbook"
  },
  "language_info": {
   "file_extension": ".raku",
   "mimetype": "text/x-raku",
   "name": "raku",
   "version": "6.d"
  },
  "widgets": {
   "application/vnd.jupyter.widget-state+json": {
    "state": {},
    "version_major": 2,
    "version_minor": 0
   }
  }
 },
 "nbformat": 4,
 "nbformat_minor": 5
}
