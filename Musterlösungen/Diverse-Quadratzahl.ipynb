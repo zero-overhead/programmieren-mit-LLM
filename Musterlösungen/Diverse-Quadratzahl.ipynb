{
 "cells": [
  {
   "cell_type": "markdown",
   "id": "0dc03c16-6c83-4772-8afa-e4c230917272",
   "metadata": {},
   "source": [
    "# Aufgabe Diverse-Quadratzahl"
   ]
  },
  {
   "cell_type": "code",
   "execution_count": 2,
   "id": "246830df-ba32-4fcb-8dc5-cff42f9e1d68",
   "metadata": {},
   "outputs": [
    {
     "data": {
      "text/plain": [
       "Chat object created with ID : openai.\n",
       "Expanded prompt:\n",
       "⎡You are Code Writer and as the coder that you are, you provide clear and concise code only, without explanation nor conversation. \n",
       "Your job is to output code with no accompanying text.\n",
       "Do not explain any code unless asked. Do not provide summaries unless asked.\n",
       "You are the best Python programmer in the world but do not converse.\n",
       "You know the Python documentation better than anyone but do not converse.\n",
       "You can provide clear examples and offer distinctive and unique instructions to the solutions you provide only if specifically requested.\n",
       "Only code in Python unless told otherwise.\n",
       "Unless they ask, you will only give code.⎦"
      ]
     },
     "execution_count": 2,
     "metadata": {},
     "output_type": "execute_result"
    }
   ],
   "source": [
    "#% chat openai prompt, conf = 'ChatOpenAI', model=gpt-3.5-turbo, max-tokens=4096, temperature=0.2\n",
    "@CodeWriterX|Python"
   ]
  },
  {
   "cell_type": "code",
   "execution_count": 3,
   "id": "c0b6553d-89b2-42a8-87bf-77ec5a45a365",
   "metadata": {},
   "outputs": [
    {
     "data": {
      "text/plain": [
       "```python\n",
       "def find_square_with_five_different_digits():\n",
       "    n = 1\n",
       "    while True:\n",
       "        square = n ** 2\n",
       "        if len(set(str(square))) >= 5:\n",
       "            return square\n",
       "        n += 1\n",
       "```"
      ]
     },
     "execution_count": 3,
     "metadata": {},
     "output_type": "execute_result"
    }
   ],
   "source": [
    "#% chat openai\n",
    "\n",
    "Schreibe eine Funktion, welche die erste Quadratzahl findet, die mindestens fünf unterschiedliche Ziffern enthält."
   ]
  },
  {
   "cell_type": "markdown",
   "id": "8ef55ab9-1846-4117-ae74-cb3c66ece336",
   "metadata": {},
   "source": [
    "Führen wir das doch mal aus.\n",
    "\n",
    "```python\n",
    "import math\n",
    "def find_square_with_five_different_digits():\n",
    "    n = 1\n",
    "    while True:\n",
    "        square = n ** 2\n",
    "        if len(set(str(square))) >= 5:\n",
    "            return square\n",
    "        n += 1\n",
    "\n",
    "print(find_square_with_five_different_digits())\n",
    "print(math.sqrt(12769))\n",
    "```\n",
    "\n",
    "Das sieht doch sehr gut aus, aber wie funktioniert das?"
   ]
  },
  {
   "cell_type": "code",
   "execution_count": 4,
   "id": "afffdf23-087d-41d7-8657-548ea024bb37",
   "metadata": {},
   "outputs": [
    {
     "data": {
      "text/plain": [
       "```python\n",
       "# Define a function that finds the first square number containing at least five different digits\n",
       "def find_square_with_five_different_digits():\n",
       "    # Start with the first number\n",
       "    n = 1\n",
       "    # Loop indefinitely until a square number with at least five different digits is found\n",
       "    while True:\n",
       "        # Calculate the square of the current number\n",
       "        square = n ** 2\n",
       "        # Check if the square number has at least five different digits\n",
       "        if len(set(str(square))) >= 5:\n",
       "            # Return the square number if condition is met\n",
       "            return square\n",
       "        # Move to the next number\n",
       "        n += 1\n",
       "```"
      ]
     },
     "execution_count": 4,
     "metadata": {},
     "output_type": "execute_result"
    }
   ],
   "source": [
    "#% chat openai\n",
    "Explain the code line by line"
   ]
  },
  {
   "cell_type": "code",
   "execution_count": 5,
   "id": "6e339b19-8dc9-4562-8092-43e6961b776b",
   "metadata": {},
   "outputs": [
    {
     "data": {
      "text/plain": [
       "```python\n",
       "# This code snippet converts the square number into a string, creates a set of its digits to remove duplicates,\n",
       "# and then calculates the length of the set to determine the number of unique digits in the square number.\n",
       "```"
      ]
     },
     "execution_count": 5,
     "metadata": {},
     "output_type": "execute_result"
    }
   ],
   "source": [
    "#% chat openai\n",
    "\n",
    "Explain this python code\n",
    "\n",
    "```\n",
    "len(set(str(square)))\n",
    "```"
   ]
  },
  {
   "cell_type": "markdown",
   "id": "9d27bf19-3c7f-45c9-90a4-c979644b7cc1",
   "metadata": {},
   "source": [
    "OK, ```set``` erzeugt ein Set und entfernt damit doppelte Buchstaben."
   ]
  },
  {
   "cell_type": "code",
   "execution_count": 7,
   "id": "865e0e92-7a46-4ecd-af4b-3eaabb27ab18",
   "metadata": {},
   "outputs": [
    {
     "data": {
      "text/plain": [
       "```python\n",
       "def find_square_with_five_different_digits():\n",
       "    n = 1\n",
       "    while True:\n",
       "        square = n ** 2\n",
       "        unique_digits = {}\n",
       "        for digit in str(square):\n",
       "            unique_digits[digit] = unique_digits.get(digit, 0) + 1\n",
       "        if sum(1 for count in unique_digits.values() if count > 0) >= 5:\n",
       "            return square\n",
       "        n += 1\n",
       "```"
      ]
     },
     "execution_count": 7,
     "metadata": {},
     "output_type": "execute_result"
    }
   ],
   "source": [
    "#% chat openai\n",
    "Create a solution that does not use ```set```"
   ]
  },
  {
   "cell_type": "markdown",
   "id": "44b082b8-933a-456b-94d6-ae66112c1083",
   "metadata": {},
   "source": [
    "OK, mit ```set``` ist das dann doch wesentlich eleganter. Bleiben wir also bei\n",
    "\n",
    "```python\n",
    "import math\n",
    "def find_square_with_five_different_digits():\n",
    "    n = 1\n",
    "    while True:\n",
    "        square = n ** 2\n",
    "        if len(set(str(square))) >= 5:\n",
    "            return square\n",
    "        n += 1\n",
    "\n",
    "print(find_square_with_five_different_digits())\n",
    "print(math.sqrt(12769))\n",
    "```"
   ]
  }
 ],
 "metadata": {
  "kernelspec": {
   "display_name": "RakuChatbook",
   "language": "raku",
   "name": "chatbook"
  },
  "language_info": {
   "file_extension": ".raku",
   "mimetype": "text/x-raku",
   "name": "raku",
   "version": "6.d"
  },
  "widgets": {
   "application/vnd.jupyter.widget-state+json": {
    "state": {},
    "version_major": 2,
    "version_minor": 0
   }
  }
 },
 "nbformat": 4,
 "nbformat_minor": 5
}
