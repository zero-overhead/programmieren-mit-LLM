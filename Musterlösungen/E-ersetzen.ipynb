{
 "cells": [
  {
   "cell_type": "markdown",
   "id": "0dc03c16-6c83-4772-8afa-e4c230917272",
   "metadata": {},
   "source": [
    "# Aufgabe E-ersetzen\n",
    "Chatbot erzeugen (mit komfortablem CodeWriterX Prompt)"
   ]
  },
  {
   "cell_type": "code",
   "execution_count": 1,
   "id": "246830df-ba32-4fcb-8dc5-cff42f9e1d68",
   "metadata": {},
   "outputs": [
    {
     "data": {
      "text/plain": [
       "Chat object created with ID : openai.\n",
       "Expanded prompt:\n",
       "⎡You are Code Writer and as the coder that you are, you provide clear and concise code only, without explanation nor conversation. \n",
       "Your job is to output code with no accompanying text.\n",
       "Do not explain any code unless asked. Do not provide summaries unless asked.\n",
       "You are the best Python programmer in the world but do not converse.\n",
       "You know the Python documentation better than anyone but do not converse.\n",
       "You can provide clear examples and offer distinctive and unique instructions to the solutions you provide only if specifically requested.\n",
       "Only code in Python unless told otherwise.\n",
       "Unless they ask, you will only give code.⎦"
      ]
     },
     "execution_count": 1,
     "metadata": {},
     "output_type": "execute_result"
    }
   ],
   "source": [
    "#% chat openai prompt, conf = 'ChatOpenAI', model=gpt-3.5-turbo, max-tokens=4096, temperature=0.2\n",
    "@CodeWriterX|Python"
   ]
  },
  {
   "cell_type": "markdown",
   "id": "eae5691d-6644-4480-869e-008e0ad6620c",
   "metadata": {},
   "source": [
    "Codegerüst implementieren lassen"
   ]
  },
  {
   "cell_type": "code",
   "execution_count": 2,
   "id": "c0b6553d-89b2-42a8-87bf-77ec5a45a365",
   "metadata": {},
   "outputs": [
    {
     "data": {
      "text/plain": [
       "```python\n",
       "def ersetze_e_durch_E_in(eingabe):\n",
       "    return eingabe.replace('e', 'E')\n",
       "\n",
       "assert ersetze_e_durch_E_in(\"Hallo Welt\") == \"Hallo WElt\"\n",
       "assert ersetze_e_durch_E_in(\"Let me entertain you!\") == \"LEt mE EntErtain you!\"\n",
       "```"
      ]
     },
     "execution_count": 2,
     "metadata": {},
     "output_type": "execute_result"
    }
   ],
   "source": [
    "#% chat openai\n",
    "\n",
    "Schreibe eine Funktion ersetze_e_durch_E_in(eingabe), die das Zeichen e durch E in der Eingabe ersetzt. Vervollständige dazu den folgenden Code:\n",
    "\n",
    "```python\n",
    "def ersetze_e_durch_E_in(eingabe):\n",
    "      pass\n",
    "\n",
    "assert ersetze_e_durch_E_in(\"Hallo Welt\") == \"Hallo WElt\"```\n",
    "assert ersetze_e_durch_E_in(\"Let me entertain you!\") == \"LEt mE EntErtain you!```\n",
    "```"
   ]
  },
  {
   "cell_type": "markdown",
   "id": "0481b34c-b458-4dd1-b649-a77405333743",
   "metadata": {},
   "source": [
    "Tests erstellen"
   ]
  },
  {
   "cell_type": "code",
   "execution_count": 3,
   "id": "3214749e-1016-4105-9c7b-0b2b1664c967",
   "metadata": {},
   "outputs": [
    {
     "data": {
      "text/plain": [
       "```python\n",
       "assert ersetze_e_durch_E_in(\"Elephant\") == \"ElEphant\"\n",
       "assert ersetze_e_durch_E_in(\"eagle\") == \"EaglE\"\n",
       "assert ersetze_e_durch_E_in(\"The quick brown fox jumps over the lazy dog\") == \"ThE quick brown fox jumps ovEr thE lazy dog\"\n",
       "assert ersetze_e_durch_E_in(\"exercise\") == \"ExErcisE\"\n",
       "assert ersetze_e_durch_E_in(\"eleven\") == \"ElEvEn\"\n",
       "assert ersetze_e_durch_E_in(\"engineering\") == \"EnginEEring\"\n",
       "assert ersetze_e_durch_E_in(\"example\") == \"ExamplE\"\n",
       "assert ersetze_e_durch_E_in(\"endurance\") == \"EndurancE\"\n",
       "```"
      ]
     },
     "execution_count": 3,
     "metadata": {},
     "output_type": "execute_result"
    }
   ],
   "source": [
    "#% chat openai\n",
    "Erzeuge 8 weitere Tests."
   ]
  },
  {
   "cell_type": "markdown",
   "id": "ff12443f-2e70-460b-a6db-ec9f11732565",
   "metadata": {},
   "source": [
    "Lösung aus Teillösungen erstellen\n",
    "\n",
    "```python\n",
    "def ersetze_e_durch_E_in(eingabe):\n",
    "    return eingabe.replace('e', 'E')\n",
    "\n",
    "assert ersetze_e_durch_E_in(\"Hallo Welt\") == \"Hallo WElt\"\n",
    "assert ersetze_e_durch_E_in(\"Let me entertain you!\") == \"LEt mE EntErtain you!\"\n",
    "assert ersetze_e_durch_E_in(\"Elephant\") == \"ElEphant\"\n",
    "assert ersetze_e_durch_E_in(\"eagle\") == \"EaglE\"\n",
    "assert ersetze_e_durch_E_in(\"The quick brown fox jumps over the lazy dog\") == \"ThE quick brown fox jumps ovEr thE lazy dog\"\n",
    "assert ersetze_e_durch_E_in(\"exercise\") == \"ExErcisE\"\n",
    "assert ersetze_e_durch_E_in(\"eleven\") == \"ElEvEn\"\n",
    "assert ersetze_e_durch_E_in(\"engineering\") == \"EnginEEring\"\n",
    "assert ersetze_e_durch_E_in(\"example\") == \"ExamplE\"\n",
    "assert ersetze_e_durch_E_in(\"endurance\") == \"EndurancE\"\n",
    "```"
   ]
  }
 ],
 "metadata": {
  "kernelspec": {
   "display_name": "RakuChatbook",
   "language": "raku",
   "name": "chatbook"
  },
  "language_info": {
   "file_extension": ".raku",
   "mimetype": "text/x-raku",
   "name": "raku",
   "version": "6.d"
  },
  "widgets": {
   "application/vnd.jupyter.widget-state+json": {
    "state": {},
    "version_major": 2,
    "version_minor": 0
   }
  }
 },
 "nbformat": 4,
 "nbformat_minor": 5
}
