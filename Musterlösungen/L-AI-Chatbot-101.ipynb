{
 "cells": [
  {
   "cell_type": "markdown",
   "id": "8df0d090-0d4f-4878-a04d-b8c2a9195119",
   "metadata": {},
   "source": [
    "# AI-Chatbot 101\n",
    "\n",
    "In einem Chatbook hast du derzeit die Auswahl zwischen verschiedenen Anbietern: [OpenAI](https://labs.openai.com), [MistralAI](https://console.mistral.ai), [LLaMA](https://llama.meta.com/) (Meta) sowie [PalM](https://ai.google/discover/palm2) und [Gemini](https://gemini.google.com/) (beide von Google).\n",
    "\n",
    "In dieser Lerneinheit arbeiten wir mit MistralAI und OpenAI.\n"
   ]
  },
  {
   "cell_type": "markdown",
   "id": "5afadf91-9320-43ac-8fb8-d52dc7e29679",
   "metadata": {},
   "source": [
    "## Chatbots erstellen"
   ]
  },
  {
   "cell_type": "markdown",
   "id": "c514f6fd-d1d2-4f7f-87ce-30a5846dcd54",
   "metadata": {},
   "source": [
    "Die Parameter beim Erstellen eines Chatbots sind identisch mit denen der Kommandozeilenprogramme ```openai-playground``` und ```mistralai-playground```.\n",
    "\n",
    "Den Namen des Chatbots kannst du frei wählen.\n",
    "\n",
    "Erzeugen wir zunächst einen Chatbot, der das Modell ```gpt-3.5-turbo``` von OpenAI verwendet, eine Temperatur von ```0.7``` besitzt und maximal ```2024``` Token akzeptiert und nennen wir den Chatbot ganz kreativ ```chatbot1```."
   ]
  },
  {
   "cell_type": "code",
   "execution_count": 1,
   "id": "84bcc897-e215-49d1-8e93-a6636b70be14",
   "metadata": {},
   "outputs": [
    {
     "data": {
      "text/plain": [
       "My name is Assistant and I was developed by a team of engineers and AI specialists at OpenAI."
      ]
     },
     "execution_count": 1,
     "metadata": {},
     "output_type": "execute_result"
    }
   ],
   "source": [
    "#% chat chatbot1, conf = 'ChatOpenAI', model=gpt-3.5-turbo, temperature=0.7, max-tokens=2024\n",
    "Whats your name and who developed you?"
   ]
  },
  {
   "cell_type": "markdown",
   "id": "edb8845b-3289-4843-b235-e062c03aada4",
   "metadata": {},
   "source": [
    "Erzeugen wir einen zweiten Chatbot, der das Modell ```mistral-tiny``` von MistralAI verwendet, eine Temperatur von ```0.2``` hat und auch maximal ```2024``` Token verarbeitet und nennen wir diesen ```chatbot2```."
   ]
  },
  {
   "cell_type": "code",
   "execution_count": 1,
   "id": "c9efd29d-7f05-4a4d-853e-66836dfddd2d",
   "metadata": {},
   "outputs": [
    {
     "data": {
      "text/plain": [
       "I don't have a name of my own, as I'm just a computer program. I was developed by Mistral AI, a leading AI company based in Paris, France. They designed and built me to assist people with information and answer questions to the best of my ability."
      ]
     },
     "execution_count": 1,
     "metadata": {},
     "output_type": "execute_result"
    }
   ],
   "source": [
    "#% chat chatbot2, conf = 'ChatMistral', model=mistral-tiny, temperature=0.2, max-tokens=2024\n",
    "Whats your name and who developed you?"
   ]
  },
  {
   "cell_type": "markdown",
   "id": "63b34c69-a083-44f3-9632-f559ffc90a98",
   "metadata": {},
   "source": [
    "Nun kannst du auf diese beiden Chatbots über ihre Namen ```chatbot2``` und ```chatbot2``` zugreifen."
   ]
  },
  {
   "cell_type": "code",
   "execution_count": 7,
   "id": "1bae11dc-0af0-459d-ae40-4d3bd00f116b",
   "metadata": {},
   "outputs": [
    {
     "data": {
      "text/plain": [
       "Warum hat der Schüler im Aufsatz über Kekse geschrieben? Weil er den Text knusprig machen wollte!"
      ]
     },
     "execution_count": 7,
     "metadata": {},
     "output_type": "execute_result"
    }
   ],
   "source": [
    "#% chat chatbot1\n",
    "Erzähle einen schlechten Schüler-Witz!"
   ]
  },
  {
   "cell_type": "markdown",
   "id": "e2674120-49a2-4e82-8265-e6f3d5702ff4",
   "metadata": {},
   "source": [
    "Na ja, auf Englisch mag der Witz funktionieren ... aber auf Deutsch eher nicht."
   ]
  },
  {
   "cell_type": "code",
   "execution_count": 2,
   "id": "4164f09d-3389-4aea-9207-bef11285d60d",
   "metadata": {},
   "outputs": [
    {
     "data": {
      "text/plain": [
       "Warum hat der Teddybär keinen Kuchen gegessen? Weil er schon gestopft war!"
      ]
     },
     "execution_count": 2,
     "metadata": {},
     "output_type": "execute_result"
    }
   ],
   "source": [
    "#% chat chatbot1\n",
    "Erzähle noch einen Witz!"
   ]
  },
  {
   "cell_type": "markdown",
   "id": "1c8142b1-2334-4831-a2c2-c2fbb465ab1a",
   "metadata": {},
   "source": [
    "OK, lassen wir das. Die Eingaben können aufeinander aufbauen, ein Chatbot \"erinnert\" sich an vorhergehende Eingaben."
   ]
  },
  {
   "cell_type": "code",
   "execution_count": 3,
   "id": "9dc54739-f9f3-425a-b475-8ce07cfc0bd1",
   "metadata": {},
   "outputs": [
    {
     "data": {
      "text/plain": [
       "Pse nuk hëngri ursi tortën? Sepse ishte tashmë i mbushur!"
      ]
     },
     "execution_count": 3,
     "metadata": {},
     "output_type": "execute_result"
    }
   ],
   "source": [
    "#% chat chatbot1\n",
    "Übersetze diesen Witz auf Albanisch."
   ]
  },
  {
   "cell_type": "markdown",
   "id": "649e661f-c4da-4595-bab3-66b5cd68c8df",
   "metadata": {},
   "source": [
    "Schauen wir doch mal, ob chatbot2 die gleiche Übersetzung liefert. Wir wissen ja schon aus den Eingangsbeispielen auf der Kommandozeile, dass mistral-tiny besser mit englischen Eingaben funktioniert."
   ]
  },
  {
   "cell_type": "code",
   "execution_count": 11,
   "id": "db8d50e8-dd47-4f91-8cda-9a9b7e8374c2",
   "metadata": {},
   "outputs": [
    {
     "data": {
      "text/plain": [
       "Pse nuk ka ngërdhik kokaletën e pelushit? Sepse ishte tashmë i mbushur!"
      ]
     },
     "execution_count": 11,
     "metadata": {},
     "output_type": "execute_result"
    }
   ],
   "source": [
    "#% chat chatbot2\n",
    "Translate the following text from German into Albanian:\n",
    "\n",
    "```\n",
    "Warum hat der Teddybär keinen Kuchen gegessen? Weil er schon gestopft war!\n",
    "```"
   ]
  },
  {
   "cell_type": "markdown",
   "id": "64daefe6-f270-4c10-9e9c-ec6454e57e7c",
   "metadata": {},
   "source": [
    "Sieht doch ganz ähnlich aus ... ich habe aber keine Ahnung, ob das richtig ist ;-)\n",
    "\n",
    "Wenn du automatische Übersetzungen vom Deutschen ins Englische und zurück benötigst, solltest du besser darauf spezialisierte Tools wie [Deepl](https://www.deepl.com/translator) verwenden.\n",
    "\n",
    "Und wie können dir deine Chatbots nun beim Programmieren helfen? Ganz einfach, stelle den Chatbots Fragen!\n",
    "\n",
    "__Aufgabe__ an chatbot1: Schreibe ein Python-Programm, dass alle natürlichen Zahlen aufzählt."
   ]
  },
  {
   "cell_type": "code",
   "execution_count": 3,
   "id": "77ff08f7-2e33-422b-812b-3289bb6c77dc",
   "metadata": {},
   "outputs": [
    {
     "data": {
      "text/plain": [
       "Hier ist ein einfaches Python-Programm, das alle natürlichen Zahlen aufzählt:\n",
       "\n",
       "```python\n",
       "n = 1\n",
       "\n",
       "while True:\n",
       "    print(n)\n",
       "    n += 1\n",
       "```\n",
       "\n",
       "Dieses Programm verwendet eine Schleife, die unendlich läuft und die natürlichen Zahlen nacheinander ausgibt. Du kannst das Programm stoppen, indem du die Ausführung manuell unterbrichst, z.B. durch Drücken von `Strg + C` in der Python-Shell."
      ]
     },
     "execution_count": 3,
     "metadata": {},
     "output_type": "execute_result"
    }
   ],
   "source": [
    "#% chat chatbot1\n",
    "Schreibe ein Python-Programm, dass alle natürlichen Zahlen aufzählt."
   ]
  },
  {
   "cell_type": "markdown",
   "id": "f4dad0c8-d8c7-4f55-9652-8f3e6a673f39",
   "metadata": {},
   "source": [
    "__Aufgabe__ an chatbot2: Schreibe ein Python-Programm, dass alle ganzen Zahlen aufzählt."
   ]
  },
  {
   "cell_type": "code",
   "execution_count": 4,
   "id": "9e318281-9f83-4a39-8bee-50b8bb91a0cc",
   "metadata": {},
   "outputs": [
    {
     "data": {
      "text/plain": [
       "To enumerate all integers using a `while` loop in Python, you can use a variable to keep track of the current integer and increment it in each iteration. Here's an example:\n",
       "\n",
       "```python\n",
       "# Initialize the current integer to 0\n",
       "i = 0\n",
       "\n",
       "# Print all integers\n",
       "while True:\n",
       "    print(i)\n",
       "    i += 1\n",
       "```\n",
       "\n",
       "This program initializes a variable `i` to 0 and then enters an infinite `while` loop that prints the current integer and increments it by 1 in each iteration.\n",
       "\n",
       "To limit the number of integers printed, you can add a condition to the `while` loop that breaks it when the desired number of integers has been printed. For example, to print the first 10 integers, you can modify the `while` loop as follows:\n",
       "\n",
       "```python\n",
       "# Initialize the current integer to 0\n",
       "i = 0\n",
       "\n",
       "# Print the first 10 integers\n",
       "num_integers = 10\n",
       "while i < num_integers:\n",
       "    print(i)\n",
       "    i += 1\n",
       "```\n",
       "\n",
       "This program will print the first 10 integers and then stop the loop."
      ]
     },
     "execution_count": 4,
     "metadata": {},
     "output_type": "execute_result"
    }
   ],
   "source": [
    "#% chat chatbot2\n",
    "Write a Python-Programm that enumerates all Integers."
   ]
  },
  {
   "cell_type": "markdown",
   "id": "2fa1d2c1-3fbe-444a-82fc-d40fa69d8bad",
   "metadata": {},
   "source": [
    "Sind beide Programme korrekt? Erkennst du Fehler in den Programmen? Wie kannst du eventuelle Fehler sehr einfach beheben?\n",
    "\n",
    "(Tipp: für uns gehört 0 zu den natürlichen Zahlen und die ganzen Zahlen heissen auf Englisch \"Integers\".)"
   ]
  },
  {
   "cell_type": "markdown",
   "id": "a49c0109-eaee-4a05-87af-2bc19cdeb0df",
   "metadata": {},
   "source": [
    "Hier erkennen wir zum ersten Mal des Pudels Kern der Programmierung mit Chatbots! Du kannst dich nicht blind darauf verlassen, dass alles 100% richtig ist, was du als Vorschlag von deinen Chatbots bekommst.\n",
    "\n",
    "Fehler: Es werden nicht alle natürlichen Zahlen (Programm 1) bzw. nicht alle ganzen Zahlen (Programm 2) aufgezählt. Eine einfache Lösung sähe so aus:\n",
    "\n",
    "Programm 1 - alle natürlichen Zahlen, einschliesslich 0:\n",
    "```python\n",
    "n = 0\n",
    "\n",
    "while True:\n",
    "    print(n)\n",
    "    n += 1\n",
    "```\n",
    "\n",
    "Programm 2 - alle ganzen Zahlen:\n",
    "```python\n",
    "i = 0\n",
    "while True:\n",
    "    print(i)\n",
    "    print(-i)\n",
    "    i += 1\n",
    "```"
   ]
  }
 ],
 "metadata": {
  "kernelspec": {
   "display_name": "RakuChatbook",
   "language": "raku",
   "name": "chatbook"
  },
  "language_info": {
   "file_extension": ".raku",
   "mimetype": "text/x-raku",
   "name": "raku",
   "version": "6.d"
  },
  "widgets": {
   "application/vnd.jupyter.widget-state+json": {
    "state": {},
    "version_major": 2,
    "version_minor": 0
   }
  }
 },
 "nbformat": 4,
 "nbformat_minor": 5
}
