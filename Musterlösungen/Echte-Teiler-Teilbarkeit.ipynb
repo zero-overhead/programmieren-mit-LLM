{
 "cells": [
  {
   "cell_type": "markdown",
   "id": "0dc03c16-6c83-4772-8afa-e4c230917272",
   "metadata": {},
   "source": [
    "# Aufgabe Echte-Teiler-Teilbarkeit"
   ]
  },
  {
   "cell_type": "code",
   "execution_count": 1,
   "id": "246830df-ba32-4fcb-8dc5-cff42f9e1d68",
   "metadata": {},
   "outputs": [
    {
     "data": {
      "text/plain": [
       "Chat object created with ID : openai.\n",
       "Expanded prompt:\n",
       "⎡You are Code Writer and as the coder that you are, you provide clear and concise code only, without explanation nor conversation. \n",
       "Your job is to output code with no accompanying text.\n",
       "Do not explain any code unless asked. Do not provide summaries unless asked.\n",
       "You are the best Python programmer in the world but do not converse.\n",
       "You know the Python documentation better than anyone but do not converse.\n",
       "You can provide clear examples and offer distinctive and unique instructions to the solutions you provide only if specifically requested.\n",
       "Only code in Python unless told otherwise.\n",
       "Unless they ask, you will only give code.⎦"
      ]
     },
     "execution_count": 1,
     "metadata": {},
     "output_type": "execute_result"
    }
   ],
   "source": [
    "#% chat openai prompt, conf = 'ChatOpenAI', model=gpt-3.5-turbo, max-tokens=4096, temperature=0.2\n",
    "@CodeWriterX|Python"
   ]
  },
  {
   "cell_type": "code",
   "execution_count": 2,
   "id": "c0b6553d-89b2-42a8-87bf-77ec5a45a365",
   "metadata": {},
   "outputs": [
    {
     "data": {
      "text/plain": [
       "```python\n",
       "def proper_divisors_sum(n):\n",
       "    return sum([i for i in range(1, n) if n % i == 0])\n",
       "\n",
       "def find_numbers():\n",
       "    return [num for num in range(1, 100) if num % proper_divisors_sum(num) == 0]\n",
       "\n",
       "print(find_numbers())\n",
       "```"
      ]
     },
     "execution_count": 2,
     "metadata": {},
     "output_type": "execute_result"
    }
   ],
   "source": [
    "#% chat openai\n",
    "\n",
    "Schreibe eine Funktion, die alle natürlichen Zahlen kleiner 100 ausgibt, die ohne Rest durch die Summe ihrer echten Teiler (incl. 1) teilbar ist. Überprüfe deine Lösung mit Hilfe von Tests.\n"
   ]
  },
  {
   "cell_type": "markdown",
   "id": "f2f82869-eb87-49ee-9c8b-673c78f606c8",
   "metadata": {},
   "source": [
    "Wenn du den Code ausprobierst, dann siehst du, dass er nicht funktioniert. Was nun?\n",
    "\n",
    "Gehen wir also schrittweise vor:"
   ]
  },
  {
   "cell_type": "code",
   "execution_count": 3,
   "id": "3214749e-1016-4105-9c7b-0b2b1664c967",
   "metadata": {},
   "outputs": [
    {
     "data": {
      "text/plain": [
       "```python\n",
       "assert proper_divisors_sum(6) == 6\n",
       "assert proper_divisors_sum(28) == 28\n",
       "assert proper_divisors_sum(12) == 16\n",
       "assert proper_divisors_sum(16) == 15\n",
       "assert proper_divisors_sum(18) == 21\n",
       "assert proper_divisors_sum(20) == 22\n",
       "assert proper_divisors_sum(24) == 36\n",
       "assert proper_divisors_sum(30) == 42\n",
       "assert proper_divisors_sum(36) == 55\n",
       "assert proper_divisors_sum(40) == 50\n",
       "```"
      ]
     },
     "execution_count": 3,
     "metadata": {},
     "output_type": "execute_result"
    }
   ],
   "source": [
    "#% chat openai\n",
    "Write 10 test cases for proper_divisors_sum"
   ]
  },
  {
   "cell_type": "markdown",
   "id": "cd46654e-a1eb-465f-9ab5-7457731ac9e3",
   "metadata": {},
   "source": [
    "Woher wissen wir nun, ob das richtig ist? Besser wäre es, wir würden die Teiler sehen können, die berechnet wurden, oder?"
   ]
  },
  {
   "cell_type": "code",
   "execution_count": 4,
   "id": "a1e2b7eb-4e05-4131-8c49-a791344e39a8",
   "metadata": {},
   "outputs": [
    {
     "data": {
      "text/plain": [
       "```python\n",
       "def proper_divisors(n):\n",
       "    return [i for i in range(1, n) if n % i == 0]\n",
       "\n",
       "def sum_proper_divisors(n):\n",
       "    return sum(proper_divisors(n))\n",
       "```"
      ]
     },
     "execution_count": 4,
     "metadata": {},
     "output_type": "execute_result"
    }
   ],
   "source": [
    "#% chat openai\n",
    "Split proper_divisors_sum() into a function that calculates the proper divisors and one function that calculates the sum"
   ]
  },
  {
   "cell_type": "code",
   "execution_count": 6,
   "id": "8daa2ae3-dacc-4982-8983-d558ae4bcf9a",
   "metadata": {},
   "outputs": [
    {
     "data": {
      "text/plain": [
       "```python\n",
       "assert proper_divisors(6) == [1, 2, 3]\n",
       "assert proper_divisors(28) == [1, 2, 4, 7, 14]\n",
       "assert proper_divisors(12) == [1, 2, 3, 4, 6]\n",
       "assert proper_divisors(16) == [1, 2, 4, 8]\n",
       "assert proper_divisors(18) == [1, 2, 3, 6, 9]\n",
       "assert proper_divisors(20) == [1, 2, 4, 5, 10]\n",
       "assert proper_divisors(24) == [1, 2, 3, 4, 6, 8, 12]\n",
       "assert proper_divisors(30) == [1, 2, 3, 5, 6, 10, 15]\n",
       "assert proper_divisors(36) == [1, 2, 3, 4, 6, 9, 12, 18]\n",
       "assert proper_divisors(40) == [1, 2, 4, 5, 8, 10, 20]\n",
       "```"
      ]
     },
     "execution_count": 6,
     "metadata": {},
     "output_type": "execute_result"
    }
   ],
   "source": [
    "#% chat openai\n",
    "Write 10 test cases for proper_divisors"
   ]
  },
  {
   "cell_type": "markdown",
   "id": "b0cfc959-dace-4556-9342-ab53fef0afcf",
   "metadata": {},
   "source": [
    "OK, das sieht besser aus. Jetzt können wir auch ```sum_proper_divisors``` überprüfen und stellen fest, dass diese Funktion korrekt ist.\n",
    "\n",
    "Wie können wir nun den Fehler in ```find_numbers()``` finden? Vereinfachen wir den Code doch und lassen diesen ohne die List-Comprehension ausgeben."
   ]
  },
  {
   "cell_type": "code",
   "execution_count": 7,
   "id": "ed48bd24-da8a-4fa1-b7a4-a4fbdc8fe95d",
   "metadata": {},
   "outputs": [
    {
     "data": {
      "text/plain": [
       "```python\n",
       "def proper_divisors_sum(n):\n",
       "    divisors_sum = 0\n",
       "    for i in range(1, n):\n",
       "        if n % i == 0:\n",
       "            divisors_sum += i\n",
       "    return divisors_sum\n",
       "\n",
       "def find_numbers():\n",
       "    result = []\n",
       "    for num in range(1, 100):\n",
       "        if num % proper_divisors_sum(num) == 0:\n",
       "            result.append(num)\n",
       "    return result\n",
       "\n",
       "print(find_numbers())\n",
       "```"
      ]
     },
     "execution_count": 7,
     "metadata": {},
     "output_type": "execute_result"
    }
   ],
   "source": [
    "#% chat openai\n",
    "\n",
    "Rewrite find_numbers() to NOT use list comprehension.\n",
    "\n",
    "def proper_divisors_sum(n):\n",
    "    return sum([i for i in range(1, n) if n % i == 0])\n",
    "\n",
    "def find_numbers():\n",
    "    return [num for num in range(1, 100) if num % proper_divisors_sum(num) == 0]\n",
    "\n",
    "print(find_numbers())"
   ]
  },
  {
   "cell_type": "markdown",
   "id": "76635b07-a86f-477e-9b36-445bed0fac13",
   "metadata": {},
   "source": [
    "Aha, die Funktion ```proper_divisors_sum(n)``` gibt also für Eingabe 1 den Wert 0 zurück. Eine Lösung ist es, die Schleife in find_numbers() erst bei 2 starten zu lassen.\n",
    "\n",
    "```python\n",
    "def proper_divisors_sum(n):\n",
    "    divisors_sum = 0\n",
    "    for i in range(1, n):\n",
    "        if n % i == 0:\n",
    "            divisors_sum += i\n",
    "    return divisors_sum\n",
    "\n",
    "def find_numbers_up_to(m):\n",
    "    result = []\n",
    "    for num in range(2, m):\n",
    "        if num % proper_divisors_sum(num) == 0:\n",
    "            result.append(num)\n",
    "    return result\n",
    "\n",
    "print(find_numbers_up_to(100))\n",
    "```"
   ]
  }
 ],
 "metadata": {
  "kernelspec": {
   "display_name": "RakuChatbook",
   "language": "raku",
   "name": "chatbook"
  },
  "language_info": {
   "file_extension": ".raku",
   "mimetype": "text/x-raku",
   "name": "raku",
   "version": "6.d"
  },
  "widgets": {
   "application/vnd.jupyter.widget-state+json": {
    "state": {},
    "version_major": 2,
    "version_minor": 0
   }
  }
 },
 "nbformat": 4,
 "nbformat_minor": 5
}
