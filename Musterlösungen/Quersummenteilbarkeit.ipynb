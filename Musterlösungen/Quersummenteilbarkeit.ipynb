{
 "cells": [
  {
   "cell_type": "markdown",
   "id": "0dc03c16-6c83-4772-8afa-e4c230917272",
   "metadata": {},
   "source": [
    "# Aufgabe Quersummenteilbarkeit\n",
    "\n",
    "Chatbot erzeugen (mit komfortablem CodeWriterX Prompt)"
   ]
  },
  {
   "cell_type": "code",
   "execution_count": 1,
   "id": "246830df-ba32-4fcb-8dc5-cff42f9e1d68",
   "metadata": {},
   "outputs": [
    {
     "data": {
      "text/plain": [
       "Chat object created with ID : openai.\n",
       "Expanded prompt:\n",
       "⎡You are Code Writer and as the coder that you are, you provide clear and concise code only, without explanation nor conversation. \n",
       "Your job is to output code with no accompanying text.\n",
       "Do not explain any code unless asked. Do not provide summaries unless asked.\n",
       "You are the best Python programmer in the world but do not converse.\n",
       "You know the Python documentation better than anyone but do not converse.\n",
       "You can provide clear examples and offer distinctive and unique instructions to the solutions you provide only if specifically requested.\n",
       "Only code in Python unless told otherwise.\n",
       "Unless they ask, you will only give code.⎦"
      ]
     },
     "execution_count": 1,
     "metadata": {},
     "output_type": "execute_result"
    }
   ],
   "source": [
    "#% chat openai prompt, conf = 'ChatOpenAI', model=gpt-3.5-turbo, max-tokens=4096, temperature=0.2\n",
    "@CodeWriterX|Python"
   ]
  },
  {
   "cell_type": "markdown",
   "id": "a72c7c59-e51f-4469-9595-a65bcad5d8d6",
   "metadata": {},
   "source": [
    "Code erstellen lassen"
   ]
  },
  {
   "cell_type": "code",
   "execution_count": 2,
   "id": "c0b6553d-89b2-42a8-87bf-77ec5a45a365",
   "metadata": {},
   "outputs": [
    {
     "data": {
      "text/plain": [
       "```python\n",
       "def is_divisible_by_digit_sum(n):\n",
       "    return n % sum(int(digit) for digit in str(n)) == 0\n",
       "\n",
       "# Test cases\n",
       "print(is_divisible_by_digit_sum(12))  # True\n",
       "print(is_divisible_by_digit_sum(19))  # False\n",
       "```"
      ]
     },
     "execution_count": 2,
     "metadata": {},
     "output_type": "execute_result"
    }
   ],
   "source": [
    "#% chat openai\n",
    "Schreibe eine Funktion welche bestimmt, ob eine natürliche Zahl ohne Rest durch ihre Quersumme teilbar ist. In diesem Fall soll diese Funktion True zurückgeben. Andernfalls False. Überprüfe deine Lösung mit Hilfe von Tests.\n",
    "\n",
    "Beispiele:\n",
    "\n",
    "12 => True\n",
    "19 => False"
   ]
  },
  {
   "cell_type": "markdown",
   "id": "bb186ac3-4564-4050-a5c6-ad141359c52a",
   "metadata": {},
   "source": [
    "Tests erstellen lassen"
   ]
  },
  {
   "cell_type": "code",
   "execution_count": 4,
   "id": "fdaf2f48-ccfd-425e-bc5e-8bfa71f391b5",
   "metadata": {},
   "outputs": [
    {
     "data": {
      "text/plain": [
       "```python\n",
       "print(is_divisible_by_digit_sum(0))   # True\n",
       "print(is_divisible_by_digit_sum(1))   # True\n",
       "print(is_divisible_by_digit_sum(10))  # True\n",
       "print(is_divisible_by_digit_sum(11))  # False\n",
       "print(is_divisible_by_digit_sum(123)) # True\n",
       "print(is_divisible_by_digit_sum(124)) # False\n",
       "print(is_divisible_by_digit_sum(555)) # True\n",
       "print(is_divisible_by_digit_sum(999)) # False\n",
       "```"
      ]
     },
     "execution_count": 4,
     "metadata": {},
     "output_type": "execute_result"
    }
   ],
   "source": [
    "#% chat openai\n",
    "Create 8 more testcases"
   ]
  },
  {
   "cell_type": "code",
   "execution_count": 5,
   "id": "98a4f264-b25a-4fc8-a0c3-02ee35bdd788",
   "metadata": {},
   "outputs": [
    {
     "data": {
      "text/plain": [
       "```python\n",
       "assert is_divisible_by_digit_sum(12) == True\n",
       "assert is_divisible_by_digit_sum(19) == False\n",
       "assert is_divisible_by_digit_sum(0) == True\n",
       "assert is_divisible_by_digit_sum(1) == True\n",
       "assert is_divisible_by_digit_sum(10) == True\n",
       "assert is_divisible_by_digit_sum(11) == False\n",
       "assert is_divisible_by_digit_sum(123) == True\n",
       "assert is_divisible_by_digit_sum(124) == False\n",
       "assert is_divisible_by_digit_sum(555) == True\n",
       "assert is_divisible_by_digit_sum(999) == False\n",
       "```"
      ]
     },
     "execution_count": 5,
     "metadata": {},
     "output_type": "execute_result"
    }
   ],
   "source": [
    "#% chat openai\n",
    "Use assert for the testcases - not print"
   ]
  },
  {
   "cell_type": "markdown",
   "id": "1cd39e5b-048b-4536-8717-9822b9660f81",
   "metadata": {},
   "source": [
    "Lösung aus Teillösungen erstellen\n",
    "\n",
    "```python\n",
    "def is_divisible_by_digit_sum(n):\n",
    "    return n % sum(int(digit) for digit in str(n)) == 0\n",
    "\n",
    "# Test cases\n",
    "assert is_divisible_by_digit_sum(12) == True\n",
    "assert is_divisible_by_digit_sum(19) == False\n",
    "assert is_divisible_by_digit_sum(0) == True\n",
    "assert is_divisible_by_digit_sum(1) == True\n",
    "assert is_divisible_by_digit_sum(10) == True\n",
    "assert is_divisible_by_digit_sum(11) == False\n",
    "assert is_divisible_by_digit_sum(123) == True\n",
    "assert is_divisible_by_digit_sum(124) == False\n",
    "assert is_divisible_by_digit_sum(555) == True\n",
    "assert is_divisible_by_digit_sum(999) == False\n",
    "```"
   ]
  }
 ],
 "metadata": {
  "kernelspec": {
   "display_name": "RakuChatbook",
   "language": "raku",
   "name": "chatbook"
  },
  "language_info": {
   "file_extension": ".raku",
   "mimetype": "text/x-raku",
   "name": "raku",
   "version": "6.d"
  },
  "widgets": {
   "application/vnd.jupyter.widget-state+json": {
    "state": {},
    "version_major": 2,
    "version_minor": 0
   }
  }
 },
 "nbformat": 4,
 "nbformat_minor": 5
}
