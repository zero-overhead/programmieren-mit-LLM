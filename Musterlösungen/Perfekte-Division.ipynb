{
 "cells": [
  {
   "cell_type": "markdown",
   "id": "0dc03c16-6c83-4772-8afa-e4c230917272",
   "metadata": {},
   "source": [
    "# Aufgabe Perfekte Division"
   ]
  },
  {
   "cell_type": "code",
   "execution_count": 1,
   "id": "246830df-ba32-4fcb-8dc5-cff42f9e1d68",
   "metadata": {},
   "outputs": [
    {
     "data": {
      "text/plain": [
       "Chat object created with ID : openai.\n",
       "Expanded prompt:\n",
       "⎡You are Code Writer and as the coder that you are, you provide clear and concise code only, without explanation nor conversation. \n",
       "Your job is to output code with no accompanying text.\n",
       "Do not explain any code unless asked. Do not provide summaries unless asked.\n",
       "You are the best Python programmer in the world but do not converse.\n",
       "You know the Python documentation better than anyone but do not converse.\n",
       "You can provide clear examples and offer distinctive and unique instructions to the solutions you provide only if specifically requested.\n",
       "Only code in Python unless told otherwise.\n",
       "Unless they ask, you will only give code.⎦"
      ]
     },
     "execution_count": 1,
     "metadata": {},
     "output_type": "execute_result"
    }
   ],
   "source": [
    "#% chat openai prompt, conf = 'ChatOpenAI', model=gpt-3.5-turbo, max-tokens=4096, temperature=0.2\n",
    "@CodeWriterX|Python"
   ]
  },
  {
   "cell_type": "code",
   "execution_count": 2,
   "id": "c0b6553d-89b2-42a8-87bf-77ec5a45a365",
   "metadata": {},
   "outputs": [
    {
     "data": {
      "text/plain": [
       "```python\n",
       "from itertools import permutations\n",
       "\n",
       "digits = '0123456789'\n",
       "\n",
       "for perm in permutations(digits):\n",
       "    if perm[0] != '0':\n",
       "        num1 = int(''.join(perm[:5]))\n",
       "        num2 = int(''.join(perm[5:]))\n",
       "        if num2 != 0 and num1 / num2 == 9:\n",
       "            print(f\"{num1} / {num2} = 9\")\n",
       "            break\n",
       "```"
      ]
     },
     "execution_count": 2,
     "metadata": {},
     "output_type": "execute_result"
    }
   ],
   "source": [
    "#% chat openai\n",
    "\n",
    "Die Zahl 9 lässt sich als Bruch zweier Zahlen darstellen, wobei jede Ziffer von 1 bis 9 genau einmal vorkommt.\n",
    "\n",
    "Was passiert, wenn wir die Ziffer 0 hinzunehmen? Gibt es dann auch eine Division aus zwei Zahlen, die exakt 9 ergibt?\n",
    "\n",
    "Hinweis: Jede der zehn Ziffern muss genau einmal vorkommen. Eine Zahl darf nicht mit der Ziffer 0 beginnen."
   ]
  },
  {
   "cell_type": "markdown",
   "id": "fe3e1eff-ecd1-4dd3-97f0-85ac917147fe",
   "metadata": {},
   "source": [
    "Diese Lösung sieht gut aus, ist aber falsch. Siehst du das Problem?"
   ]
  },
  {
   "cell_type": "code",
   "execution_count": 3,
   "id": "3214749e-1016-4105-9c7b-0b2b1664c967",
   "metadata": {},
   "outputs": [
    {
     "data": {
      "text/plain": [
       "```python\n",
       "# Import the permutations function from the itertools module\n",
       "from itertools import permutations\n",
       "\n",
       "# Define the digits as '0123456789'\n",
       "digits = '0123456789'\n",
       "\n",
       "# Generate all permutations of the digits\n",
       "for perm in permutations(digits):\n",
       "    # Check if the first digit is not '0' to ensure the number doesn't start with '0'\n",
       "    if perm[0] != '0':\n",
       "        # Create two numbers by joining the permutations at different points\n",
       "        num1 = int(''.join(perm[:5]))  # First 5 digits as num1\n",
       "        num2 = int(''.join(perm[5:]))  # Last 5 digits as num2\n",
       "        # Check if num2 is not 0 to avoid division by zero, then check if num1 divided by num2 equals 9\n",
       "        if num2 != 0 and num1 / num2 == 9:\n",
       "            # If the condition is met, print the numbers and the division result\n",
       "            print(f\"{num1} / {num2} = 9\")\n",
       "            # Break out of the loop as we found the solution\n",
       "            break\n",
       "```"
      ]
     },
     "execution_count": 3,
     "metadata": {},
     "output_type": "execute_result"
    }
   ],
   "source": [
    "#% chat openai\n",
    "\n",
    "Explain the code in detail"
   ]
  },
  {
   "cell_type": "markdown",
   "id": "ffa1daf9-803d-41d6-8ca5-81f5f4ff87ee",
   "metadata": {},
   "source": [
    "OK, jetzt wird es klar, wo der Fehler liegt: ```num2``` darf auch nicht mit 0 beginnen! Wenn wir jetzt noch das ```break``` entfernen, erhalten wir sogar alle Lösungen.\n",
    "\n",
    "```python\n",
    "from itertools import permutations\n",
    "\n",
    "digits = '0123456789'\n",
    "\n",
    "def brute_force():\n",
    "    for perm in permutations(digits):\n",
    "        if perm[0] != '0' and perm[5] != '0':\n",
    "            num1 = int(''.join(perm[:5]))\n",
    "            num2 = int(''.join(perm[5:]))\n",
    "            if num2 != 0 and num1 / num2 == 9:\n",
    "                print(f\"{num1} / {num2} = 9\")\n",
    "\n",
    "brute_force()\n",
    "```"
   ]
  }
 ],
 "metadata": {
  "kernelspec": {
   "display_name": "RakuChatbook",
   "language": "raku",
   "name": "chatbook"
  },
  "language_info": {
   "file_extension": ".raku",
   "mimetype": "text/x-raku",
   "name": "raku",
   "version": "6.d"
  },
  "widgets": {
   "application/vnd.jupyter.widget-state+json": {
    "state": {},
    "version_major": 2,
    "version_minor": 0
   }
  }
 },
 "nbformat": 4,
 "nbformat_minor": 5
}
