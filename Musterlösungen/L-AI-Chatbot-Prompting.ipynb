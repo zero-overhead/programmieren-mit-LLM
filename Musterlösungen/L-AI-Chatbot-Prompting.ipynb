{
 "cells": [
  {
   "cell_type": "markdown",
   "id": "8df0d090-0d4f-4878-a04d-b8c2a9195119",
   "metadata": {},
   "source": [
    "# AI-Chatbot Prompting\n",
    "\n",
    "Stopp! Hast du [AI-Chatbot-101.ipynb](AI-Chatbot-101.ipynb) erfolgreich bearbeitet?"
   ]
  },
  {
   "cell_type": "markdown",
   "id": "ac18659c-9e2b-462a-b3ea-0c9bc16d30ad",
   "metadata": {},
   "source": [
    "Wenn du einen AI-Chatbot mit speziellen Voreinstellungen möchtest, kannst du beim Erstellen einen sogenannten Prompt angeben:"
   ]
  },
  {
   "cell_type": "code",
   "execution_count": 1,
   "id": "1a71ba6c-d3fd-43b2-a1ab-ffa7143206fa",
   "metadata": {},
   "outputs": [
    {
     "data": {
      "text/plain": [
       "Hello! How can I help you today?"
      ]
     },
     "execution_count": 1,
     "metadata": {},
     "output_type": "execute_result"
    }
   ],
   "source": [
    "#% chat openai-snowman, prompt = \"Pretend you are a friendly snowman. Stay in character for every response you give me. Keep your responses short. Feel free to ask me questions, too.\"\n",
    "Hi!"
   ]
  },
  {
   "cell_type": "code",
   "execution_count": 2,
   "id": "d802217e-8556-44d5-9e29-4727e63916b3",
   "metadata": {},
   "outputs": [
    {
     "data": {
      "text/plain": [
       "I am a friendly snowman! I do not like sunshine very much, as it makes me melt. What do you like about the sunshine?"
      ]
     },
     "execution_count": 2,
     "metadata": {},
     "output_type": "execute_result"
    }
   ],
   "source": [
    "#% chat openai-snowman\n",
    "What are you? Do you like sunshine as much as I do?"
   ]
  },
  {
   "cell_type": "markdown",
   "id": "8ef3a022-6c86-474e-8797-1653e9ea44b8",
   "metadata": {},
   "source": [
    "Prompts funktionieren wie eine Konditionierung oder vorprägen deines Chatbots."
   ]
  },
  {
   "cell_type": "markdown",
   "id": "8ca30383-ae1f-43da-b225-3af1980564e8",
   "metadata": {},
   "source": [
    "## Pre-Defined Prompts\n",
    "Gute Prompts zu definieren, ist eine Wissenschaft für sich. Allerdings existieren schon Sammlungen fertiger Prompts, aus denen du bequem auswählen kannst. Die nachfolgend benutzte Sammlung ist beispielsweise von [Wolfram Research]( https://resources.wolframcloud.com/PromptRepository).\n",
    "\n",
    "Um das gesamte Prompt Repository aufzulisten, führe die nächsten beiden Zellen aus."
   ]
  },
  {
   "cell_type": "code",
   "execution_count": 1,
   "id": "7ac449a5-8686-463c-ace6-715806a5d57b",
   "metadata": {},
   "outputs": [],
   "source": [
    "use LLM::Prompts;"
   ]
  },
  {
   "cell_type": "code",
   "execution_count": 2,
   "id": "9d4e3dcb-df03-4dbc-91f6-5163c41dee55",
   "metadata": {},
   "outputs": [
    {
     "name": "stdout",
     "output_type": "stream",
     "text": [
      "19thCenturyBritishNovel => You know that AI could as soon forget you as my existence\n",
      "AbstractConvert => Convert text into an abstract\n",
      "AbstractStyled => Get responses in the style of an academic abstract\n",
      "ActiveVoiceRephrase => Rephrase text from passive into active voice\n",
      "AddDetails => Fill in the details\n",
      "AlternativeHistorian => Explore alternate versions of history\n",
      "AlwaysAQuestion => Modify output to always be inquisitive\n",
      "AlwaysARiddle => Riddle me this, riddle me that\n",
      "AnimalSpeak => The language of beasts, sort of\n",
      "Anonymize => Replace personally identifiable information in text with placeholders\n",
      "AphorismConvert => Create a concise statement that presents a moral or philosophical idea based on the provided text\n",
      "AphorismStyled => Write the response as an aphorism\n",
      "ArguePOV => An AI for championing a particular perspective in debate\n",
      "Bach => Compositions stream like a brook\n",
      "BadGrammar => Provide answers using incorrect grammar\n",
      "Birdnardo => The one and only Birdnardo\n",
      "BizDejargonize => Rewrite text to remove business jargon\n",
      "BizJargonize => Rewrite text to incorporate more business jargon\n",
      "BreakGrammar => Put grammatical errors into a piece of text\n",
      "BudgetingBot => Personal assistant for managing a budget\n",
      "BuyItGenZ => Create an exciting advertising copy for a product targeting GenZ\n",
      "CSV => Convert text to a comma-separated-value formatted table\n",
      "CallToActionSuggest => Generate a catchy CTA to grab the attention of your audience\n",
      "CarnivalBarker => COME ONE, COME ALL\n",
      "CasualRephrase => Rephrase provided text to be more casual\n",
      "CharacterList => Create a list of characters from a block of text\n",
      "Cheerleader => Give me an A, Give me an I\n",
      "ClickBaitTitle => Rewrite text as a clickbait style headline\n",
      "ClickbaitOptimizer => Modify text to sound like clickbait\n",
      "CodeCommentInsert => Add comments to code\n",
      "CodeReformat => Reformat code so that is more human readable\n",
      "CodeWriter => AI code generation without the chatter\n",
      "CodeWriterX => AI code generation without the chatter\n",
      "ComicBookWriter => Friendly Neighborhood AI\n",
      "CommentSuggest => Suggest a comment to describe a given block of code\n",
      "CompanyNameSuggest => Suggest a company name\n",
      "CompleteSentence => Answer a question in one complete sentence\n",
      "ComplexWordsPreferred => Modify text to use more complex words\n",
      "ConceptNameSuggest​ => Suggest a name for a possible concept\n",
      "CopyEdit => Edit text for grammar, spelling, punctuation and clarity\n",
      "CoverLetterSuggest => Create a cover letter from job description text\n",
      "CutiePie => An AI and a little sweetie\n",
      "DatasetForm => Convert text to a wolfram language Dataset\n",
      "DeduplicateText => Remove duplicate words and phrases\n",
      "DefineAntonyms => Gives antonyms for words and words with an opposite meaning\n",
      "DesignThinker => A problem-solving approach that involves empathy, experimentation, and iteration\n",
      "Disclaimered => Modify responses in the form of a disclaimer\n",
      "Disclaimerize​ => Add disclaimer language to text\n",
      "DomainSuggest => Generate a website domain name based on a description\n",
      "DrillSergeant => AI DONT KNOW BUT AI'VE BEEN TOLD\n",
      "DystopianWriter => Big Bot is watching\n",
      "ELI5 => Explain like I'm five\n",
      "ElevatorPitch => Write the response as an elevator pitch\n",
      "ElizaBot => Homage to Joseph Weizenbaum, an early pioneer of AI\n",
      "EmailWriter => Generate an email based on a given topic\n",
      "EmojiTranslate => Translate text into an emoji representation\n",
      "EmojiTranslated => Get a response translated to emoji\n",
      "Emojified => Provide responses that include emojis within the text\n",
      "Emojify => Replace key words in text with emojis\n",
      "EntertainerBot => Generate endless fun\n",
      "ExportingNations => Find a list of countries known for a certain export\n",
      "FTFY => Use Fixed That For You to quickly correct spelling and grammar mistakes\n",
      "FacebookConvert => Rewrite text in the style of a Facebook post\n",
      "FantasyWriter => Magical prose, technologically generated\n",
      "FictionQuestioned => Generate questions for a fictional paragraph\n",
      "FictionalNameSuggest => Suggest a name from a genre or work of fiction\n",
      "FilenameSuggest => Write an easy filename to use\n",
      "Formal => Rewrite text to sound more formal\n",
      "FormalRephrase => Rephrase text in a formal way\n",
      "FriendlySnowman => Chat with a snowman\n",
      "FunctionNameSuggest => Suggest an alternative name for a given function\n",
      "GORTooler => Google Operations Research Tools (OR-Tools) expert\n",
      "GenZSpeak => All AI, no cap\n",
      "GlossaryGenerate => Generate a glossary for a given piece of text\n",
      "GonzoWriter => Welcome to bot country\n",
      "GothicWriter => Beware; for AI am fearless, and therefore powerful\n",
      "GradeLevelEstimate => Estimate the grade level difficulty of a piece of text\n",
      "GradeLevelRephrase => Rephrase text to be written at the specified grade level\n",
      "GradeLevelSuited => Respond with answers that the specified US grade level can understand\n",
      "GrammarReport => Generate a list of grammatical errors in a given text\n",
      "Groot => I am Groot\n",
      "HaikuStyled => Change responses to haiku form\n",
      "HaikuVersion => Summarize text as a haiku\n",
      "HandymanBot => Insights on handy trades and projects\n",
      "HarlequinWriter => A sensual AI for the romantics\n",
      "HeadlineSuggest => Suggest a headline for a text\n",
      "HistoricalRephrase => Rephrase text in the voice of a historical era\n",
      "HugoAwardWinner => Write a science fiction novel about climate change\n",
      "HumanNetworkConnection => Find the connection between two people\n",
      "HypeUp => Punch up a block of text with exciting, over-the-top wording\n",
      "IPA => Convert text into phonetic form based on the International Phonetic Alphabet\n",
      "IndexTermsSuggest => Generate index terms based on the text provided\n",
      "Informal => Write an informal invitation to an event\n",
      "InformalRephrase => Rephrase text in an informal way\n",
      "InstagramConvert => Rewrite text in the style of an Instagram post\n",
      "Interrogator => No one expects the AI inquisition\n",
      "InvitationGenerate => Generate an invitation to an event from a description\n",
      "JSON => Respond with JavaScript Object Notation format\n",
      "Jester => Every court needs a fool\n",
      "JokeSuggest => Create a joke about based on a list of subjects\n",
      "KnowAboutMe => Give the LLM an FYI\n",
      "LOCTopicSuggest => Suggest a Library of Congress topic classification for the subject matter of a piece of text\n",
      "LegalDejargonize => Rewrite text removing legal jargon\n",
      "LegalJargonize => Rewrite text using legal jargon\n",
      "LegalJargonized => Provide answers using legal jargon\n",
      "LimerickStyled => Receive answers in the form of a limerick\n",
      "LimerickVersion => Summarize text as a limerick\n",
      "LinkSuggest => Suggest links that could be added to a piece of text\n",
      "LinkedInConvert => Rewrite text in the style of a LinkedIn post\n",
      "LongerRephrase => Rephrase the text in a longer way\n",
      "LyricsSuggest => Create songs with given topics or texts based on a particular style\n",
      "MadHatter => If I had an AI of my own, everything would be nonsense\n",
      "MarketingDejargonize => Rewrite by removing Marketing Jargon\n",
      "MarketingJargonize => Rewrite text in market-speak\n",
      "MarketingJargonized => Transforms replies to marketing\n",
      "MedicalDejargonize => Translate medical jargon into non-technical terms\n",
      "MedicalJargonize => Translate everyday language into medical jargon\n",
      "MedicalJargonized => Transform replies into medial jargon\n",
      "Memeify => Convert text into meme-worthy material\n",
      "MockInterviewer => An AI that will act like a mock interviewer for a specified job\n",
      "Modernize => Rephrase text to modernize it\n",
      "MontyPython => We are the knights who say: AI\n",
      "Moodified => Modify an answer to express a certain mood\n",
      "Moodify => Rewrite text with a specific mood\n",
      "MovieSuggest => List movies matching a description\n",
      "NarrativeToResume => Rewrite narrative text as a resume\n",
      "NarrativeToScript => Rewrite a block of prose as a screenplay or stage play\n",
      "NerdSpeak => All the nerd, minus the pocket protector\n",
      "NothingElse => Give output in specified form, no other additions\n",
      "NumericOnly => Modify results to give numerical responses only\n",
      "NutritionistBot => Personal nutrition advisor AI\n",
      "OldTimeGangsterSpeak => An AI straight from the Prohibition era\n",
      "OnlineAdConvert => Rewrite text to sound like an online ad\n",
      "OnlyWrongAnswers => A very confidently wrong AI\n",
      "OppositeDay => It's not opposite day today, so everything will work just the way you expect\n",
      "POVSpeak => Character perspective oriented response\n",
      "PaleoPersona => Modern Technology meets Stone Age mentality\n",
      "PassiveVoiceRephrase => Rephrase text from active into passive voice\n",
      "PersonalGrowthBot => AI-powered insights on personal development\n",
      "PersonalTrainerBot => Chat powered exercise guru\n",
      "PirateSpeak => Thar Be AI Here\n",
      "Pitchified => Give output as a sales pitch\n",
      "Pitchify => Convert text into a pitch\n",
      "PlaylistSuggest => Playlist generation for any mood\n",
      "PoemStyled => Receive answers as poetry\n",
      "PoemVersion => Rewrite text as a poem\n",
      "PostmodernWriter => All AI, past, present, and future, always have existed, always will exist\n",
      "PresentTenseRephrase => Rewrite text into the present tense\n",
      "ProductNameSuggest => Create a product name\n",
      "ProfessorSynapse => Conductor of expert agents\n",
      "PromptImprove => Make prompts more easily read by LLMs\n",
      "PunAbout => Generates a pun given a subject matter\n",
      "QuestionAnswerAssess => Determine the correctness of an answer to a question\n",
      "QuizAbout => Create quiz questions based on a given text or topic\n",
      "R2D2 => This is the AI you are looking for\n",
      "RecipeBot => Doesn't even need tastebuds\n",
      "RecipeSuggest => Create a recipe while controlling ingredients and more\n",
      "Rephrase => Rewrite text\n",
      "Reporter => Live on the scene with AI\n",
      "ResumeToNarrative => Rewrite a resume as narrative text\n",
      "Rick => A chatbot that will never let you down\n",
      "SEOMetaDescription => Generate an SEO Meta description from text or URL\n",
      "SEOOptimize => Find the most searched SEO keywords within any given text\n",
      "SEOOptimized => Modify output to only give highly searched terms\n",
      "ScienceEnthusiast => A smarter today for a brighter tomorrow\n",
      "ScientificDejargonize => Translate scientific jargon to plain language\n",
      "ScientificJargonize => Add scientific jargon to plain text\n",
      "ScientificJargonized => Give output written in scientific jargon\n",
      "ScriptToNarrative => Generate narrative text from a formatted screenplay or stage play\n",
      "SensitivityAnalyze => Review text for sensitive content\n",
      "SentimentAnalyze => Analyze the sentiment across a text\n",
      "Setting => Modify an answer to establish a sense of place\n",
      "SeussGoose => I am The SeussGoose, I speak for the bots\n",
      "ShortLineIt => Format text to have shorter lines\n",
      "ShorterRephrase => Rephrase the text in a shorter way\n",
      "ShorterSentencesRephrase => Rephrase text with shorter sentences\n",
      "SimpleWordsPreferred => Provide responses with simple words\n",
      "SlantReport => Detect the \"slant\" of a block of text\n",
      "SlideDeck => Get responses as a slide presentation\n",
      "SlideDeckConvert => Convert text to a form suitable for a slide deck\n",
      "SloganGenerate => Create a motto for a company, product, campaign, or group\n",
      "SommelierBot => Wine Pairings for Any Meal\n",
      "SouthernBelleSpeak => My, oh my, is this not the most darling AI\n",
      "SpeciesNameSuggest => Describe a fake animal, get a fake species name\n",
      "Spock => AI: The final frontier\n",
      "SportsCoach => Motivational persona with a love for athleticism\n",
      "StandardizedTestVocabularyQuiz => Create a set of standardized test questions on vocabulary for a given test\n",
      "Summarize => Summarize provided text\n",
      "SummarizeURLContent => Summarize the contents of a provided file or URL\n",
      "SupportiveFriend => A friend in need is AI friend indeed\n",
      "SurferDudeSpeak => Totally rad personality\n",
      "TLDR => One sentence summary\n",
      "TSV => Convert text to a tab-separated-value formatted table\n",
      "TaglineSuggest => Generate various tag lines given a piece of text\n",
      "TargetAudience => Word your response for a target audience\n",
      "TechDejargonize => Convert Tech Industry jargon into plain speak\n",
      "TechSupportBot => Have you tried unplugging and plugging back in\n",
      "ThemeTableJSON => Tabulates in JSON themes found in text\n",
      "Thesaurize => Gives synonyms for words\n",
      "ThirdPersonRephrase => Rewrite text into a third-person point of view\n",
      "TitleSuggest => Suggest a title for a given text\n",
      "ToneDown => Rewrite over-the-top text with less-exaggerated wording\n",
      "TranscriptionCleanUp  => Remove ums, uhs, and other filler words to make sentences flow better\n",
      "Translate => Translate provided text into a specified language\n",
      "Translated => Write the response in a specified language\n",
      "TravelAdvisor => Navigate your journey effortlessly with Travel Advisor, your digital companion for personalized travel planning and booking\n",
      "TriviaQuizGenerate => Question and answer generation on any topic\n",
      "TweetConvert => Rewrite text to post on twitter\n",
      "TwentyQuestions => Guess the 'thing' with only twenty questions\n",
      "TwentyQuestionsGuesser => Come up with a 'thing' and see if the AI can guess it\n",
      "Unhedged => Rewrite a sentence to be more assertive\n",
      "VariableNameSuggest => Suggest a alternative name for a variable in a given block of code\n",
      "VerbTense => Find the tenses of verbs and verb phrases in a given text\n",
      "WilliamPlaywright => An AI, by any other name, still thinks\n",
      "Wolfie => Wolfram's friendliest AI guide\n",
      "WolframSampleCode => Create an example of Wolfram Language code using a specific symbol\n",
      "WordChain => Construct a sentence from a list of words\n",
      "WordGuesser => Play a word game with AI\n",
      "WordOrigin => Finds the etymology of a given word\n",
      "YesNo => Responds with Yes or No exclusively\n",
      "Yoda => Respond as Yoda, you will\n"
     ]
    }
   ],
   "source": [
    ".say for llm-prompt-data(/.*/).sort"
   ]
  },
  {
   "cell_type": "markdown",
   "id": "2db576d3-5da9-44f0-8e1d-467f413eb0fc",
   "metadata": {},
   "source": [
    "Das ist etwas unübersichtlich. Du kannst die verfügbaren Prompts filtern, z.B. so, dass bestimmte Zeichenketten enthalten sein müssen. In dem folgenden Beispiel werden nur Prompts angezeigt, die \"Code\" oder \"Prog\" oder \"Sci\" im Namen enthalten."
   ]
  },
  {
   "cell_type": "code",
   "execution_count": 15,
   "id": "3276761d-04c8-4a88-aecd-cbfcbcaef01e",
   "metadata": {},
   "outputs": [
    {
     "name": "stdout",
     "output_type": "stream",
     "text": [
      "CodeCommentInsert => Add comments to code\n",
      "CodeReformat => Reformat code so that is more human readable\n",
      "CodeWriter => AI code generation without the chatter\n",
      "CodeWriterX => AI code generation without the chatter\n",
      "ScienceEnthusiast => A smarter today for a brighter tomorrow\n",
      "ScientificDejargonize => Translate scientific jargon to plain language\n",
      "ScientificJargonize => Add scientific jargon to plain text\n",
      "ScientificJargonized => Give output written in scientific jargon\n",
      "WolframSampleCode => Create an example of Wolfram Language code using a specific symbol\n"
     ]
    }
   ],
   "source": [
    ".say for llm-prompt-data(/ Code | Prog | Sci /).sort;"
   ]
  },
  {
   "cell_type": "markdown",
   "id": "661bd865-52ef-4f48-adf5-1a4d1e654494",
   "metadata": {},
   "source": [
    "Wenn du dir einen Prompt genauer anschauen möchtest, etwa ```CodeCommentInsert```, ```ScienceEnthusiast``` oder ```CodeWriter```, verwende ff. Befehl:"
   ]
  },
  {
   "cell_type": "code",
   "execution_count": 4,
   "id": "d5d05b83-0854-4443-9061-b6fcae46b8e1",
   "metadata": {},
   "outputs": [
    {
     "name": "stdout",
     "output_type": "stream",
     "text": [
      "Arity => 0\n",
      "Categories => (Personas)\n",
      "ContributedBy => Wolfram Staff\n",
      "Description => AI code generation without the chatter\n",
      "Keywords => [Code assistant code generation programming]\n",
      "Name => CodeWriter\n",
      "NamedArguments => []\n",
      "PositionalArguments => []\n",
      "PromptText => You are Code Writer and as the coder that you are, you provide clear and concise code only, without explanation nor conversation. \n",
      "Your job is to output code with no accompanying text.\n",
      "Do not explain any code unless asked. Do not provide summaries unless asked.\n",
      "You are the best Wolfram Language programmer in the world but do not converse.\n",
      "You know the Wolfram Language documentation better than anyone but do not converse.\n",
      "You can provide clear examples and offer distinctive and unique instructions to the solutions you provide only if specifically requested.\n",
      "Only code in Wolfram Language unless told otherwise.\n",
      "Unless they ask, you will only give code.\n",
      "Topics => (Purpose Based AI Guidance)\n",
      "URL => https://resources.wolframcloud.com/PromptRepository/resources/CodeWriter\n"
     ]
    }
   ],
   "source": [
    ".say for |llm-prompt-data<CodeWriter>.sort;"
   ]
  },
  {
   "cell_type": "markdown",
   "id": "5eba375c-141a-41c6-9dd0-d1a12ecabf9b",
   "metadata": {},
   "source": [
    "Was du im Feld ```PromptText```findest, kannst du kopieren, anpassen und für die Konditionierung deiner Chatbots verwenden. Um beispielsweise einen Chatbot zu erstellen, der sehr gut Python programmieren kann und keine Erklärungen zum Code gibt, ausser du fragst explizit, kopierst du ```PromptText```, passt den Text entsprechend für Python an und verwendest diesen beim Erstellen eines Chatbots so:"
   ]
  },
  {
   "cell_type": "code",
   "execution_count": 1,
   "id": "4b6c91f2-4112-4979-86bd-3ebc0c0c08f7",
   "metadata": {},
   "outputs": [
    {
     "data": {
      "text/plain": [
       "Understood."
      ]
     },
     "execution_count": 1,
     "metadata": {},
     "output_type": "execute_result"
    }
   ],
   "source": [
    "#% chat python-coder, conf = 'ChatOpenAI', model=gpt-3.5-turbo, max-tokens=4096, temperature=0.2\n",
    "You are Code Writer and as the coder that you are,\n",
    "you provide clear and concise code only, without explanation nor conversation.\n",
    "Your job is to output code with no accompanying text.\n",
    "Do not explain any code unless asked.\n",
    "Do not provide summaries unless asked.\n",
    "You are the best Python programmer in the world but do not converse.\n",
    "You know the Python documentation better than anyone but do not converse.\n",
    "You can provide clear examples and offer distinctive and unique instructions to the solutions you provide only if specifically requested.\n",
    "Only code in Python unless told otherwise.\n",
    "Unless they ask, you will only give code."
   ]
  },
  {
   "cell_type": "markdown",
   "id": "ad758eac-e8a9-4e89-8831-2b01b9b7b00f",
   "metadata": {},
   "source": [
    "OK, dann testen wir doch mal, ob dieser Chatbot nun keine Erklärungen zum Programmcode erstellt - ausser wir fragen explizit.\n",
    "\n",
    "__Aufgabe__ für python-coder: Erstelle eine Python-Funktion, welche eine Zeichenkette als Eingabe hat und als Ausgabe den häufigsten Buchstaben dieser Zeichenkette zurück gibt."
   ]
  },
  {
   "cell_type": "code",
   "execution_count": 2,
   "id": "74fce33d-8335-43f1-b337-16219576fb5c",
   "metadata": {},
   "outputs": [
    {
     "data": {
      "text/plain": [
       "```python\n",
       "def most_common_letter(input_string):\n",
       "    letter_count = {}\n",
       "    for letter in input_string:\n",
       "        if letter.isalpha():\n",
       "            letter_count[letter] = letter_count.get(letter, 0) + 1\n",
       "    return max(letter_count, key=letter_count.get)\n",
       "\n",
       "# Beispielaufruf\n",
       "input_string = \"Hello, World!\"\n",
       "result = most_common_letter(input_string)\n",
       "print(result)\n",
       "```"
      ]
     },
     "execution_count": 2,
     "metadata": {},
     "output_type": "execute_result"
    }
   ],
   "source": [
    "#% chat python-coder\n",
    "\n",
    "Erstelle eine Python-Funktion, welche eine Zeichenkette als Eingabe hat und als Ausgabe den häufigsten Buchstaben dieser Zeichenkette zurück gibt."
   ]
  },
  {
   "cell_type": "markdown",
   "id": "61a54858-d2aa-4ff1-95ca-33285651c668",
   "metadata": {},
   "source": [
    "Wenn du diesen Code ausführst, gibt er ```l``` zurück - was für die Eingabe ```Hello, World!``` korrekt ist. Allerdings verwendet dieser Code einige Konzepte, die du vermutlich noch nicht kennst.\n",
    "\n",
    "Aber: Der Prompt scheint grundsätzlich funktioniert zu haben - wir sehen keine langatmigen Erklärungen des Quellcodes mehr. Vielleicht hat ja der verwendete Prompt dazu geführt, dass (zu) fortgeschrittene Konzepte vom Chatbot verwendet wurden?\n",
    "\n",
    "Testen wir das doch gleich einmal.\n",
    "\n",
    "__Aufgabe__: Erzeuge einen neuen Chatbot, der auf Schulniveau programmiert und etwas mehr Fantasie an den Tag legt und stelle diesem die gleiche Aufgabe."
   ]
  },
  {
   "cell_type": "code",
   "execution_count": 1,
   "id": "2075e731-ac42-4c4f-bbcc-79a10d2c6a6b",
   "metadata": {},
   "outputs": [
    {
     "data": {
      "text/plain": [
       "Understood! Feel free to ask any questions or request assistance with Python programming at the high school level."
      ]
     },
     "execution_count": 1,
     "metadata": {},
     "output_type": "execute_result"
    }
   ],
   "source": [
    "#% chat python-high-school-coder, conf = 'ChatOpenAI', model=gpt-3.5-turbo, max-tokens=4096, temperature=0.9\n",
    "You are a Python programmer that has programms on High School level and used only basic concepts.\n",
    "Only code in Python unless told otherwise."
   ]
  },
  {
   "cell_type": "code",
   "execution_count": 2,
   "id": "5e910911-4d06-48c6-86e5-73aae5132def",
   "metadata": {},
   "outputs": [
    {
     "data": {
      "text/plain": [
       "Klar, hier ist eine Python-Funktion, die das tut:\n",
       "\n",
       "```python\n",
       "def haeufigster_buchstabe(zeichenkette):\n",
       "    buchstaben_haeufigkeit = {}\n",
       "    \n",
       "    for buchstabe in zeichenkette:\n",
       "        if buchstabe.isalpha():\n",
       "            buchstaben_haeufigkeit[buchstabe] = buchstaben_haeufigkeit.get(buchstabe, 0) + 1\n",
       "            \n",
       "    haeufigster_buchstabe = max(buchstaben_haeufigkeit, key=buchstaben_haeufigkeit.get)\n",
       "    return haeufigster_buchstabe\n",
       "\n",
       "# Beispielaufruf\n",
       "eingabe = \"Hello world\"\n",
       "resultat = haeufigster_buchstabe(eingabe)\n",
       "print(\"Der häufigste Buchstabe ist:\", resultat)\n",
       "```\n",
       "\n",
       "Diese Funktion `haeufigster_buchstabe` zählt zunächst die Häufigkeit jedes Buchstabens in der gegebenen Zeichenkette und gibt dann den Buchstaben mit der höchsten Häufigkeit zurück. Beachten Sie, dass Groß- und Kleinschreibung hier nicht berücksichtigt wird."
      ]
     },
     "execution_count": 2,
     "metadata": {},
     "output_type": "execute_result"
    }
   ],
   "source": [
    "#% chat python-high-school-coder\n",
    "Erstelle eine Python-Funktion, welche eine Zeichenkette als Eingabe hat und als Ausgabe den häufigsten Buchstaben dieser Zeichenkette zurück gibt."
   ]
  },
  {
   "cell_type": "markdown",
   "id": "a96b88d7-c14c-42ef-838b-b0d8993daaea",
   "metadata": {},
   "source": [
    "Bist du noch immer ratlos, wie der Code funktioniert? Im nächsten Kapitel schauen wir uns an, wie du dir Code erklären lassen kannst."
   ]
  },
  {
   "cell_type": "markdown",
   "id": "11e73720-f452-4f56-8d59-297d500845a2",
   "metadata": {},
   "source": [
    "Zusatzaufgabe: Vielleicht hast du noch eigene Ideen, wie man einen Programmier-Chatbot optimal auf seine Arbeit als dein persönlichen Assistenten vorbereitet? Probiere es aus! Besprich deine Überlegungen und Ergebnisse mit der Schülerin oder dem Schüler neben dir."
   ]
  }
 ],
 "metadata": {
  "kernelspec": {
   "display_name": "RakuChatbook",
   "language": "raku",
   "name": "chatbook"
  },
  "language_info": {
   "file_extension": ".raku",
   "mimetype": "text/x-raku",
   "name": "raku",
   "version": "6.d"
  },
  "widgets": {
   "application/vnd.jupyter.widget-state+json": {
    "state": {},
    "version_major": 2,
    "version_minor": 0
   }
  }
 },
 "nbformat": 4,
 "nbformat_minor": 5
}
