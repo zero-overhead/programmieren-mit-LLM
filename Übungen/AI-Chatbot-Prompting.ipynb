{
 "cells": [
  {
   "cell_type": "markdown",
   "id": "8df0d090-0d4f-4878-a04d-b8c2a9195119",
   "metadata": {},
   "source": [
    "# AI-Chatbot Prompting\n",
    "\n",
    "Stop: Hast du [AI-Chatbot-101.ipynb](AI-Chatbot-101.ipynb) erfolgreich bearbeitet?"
   ]
  },
  {
   "cell_type": "markdown",
   "id": "ac18659c-9e2b-462a-b3ea-0c9bc16d30ad",
   "metadata": {},
   "source": [
    "Wenn du einen AI-Chatbot mit speziellen Voreinstellungen möchtest, kannst du beim Erstellen einen sogenannten Prompt angeben:"
   ]
  },
  {
   "cell_type": "code",
   "execution_count": null,
   "id": "1a71ba6c-d3fd-43b2-a1ab-ffa7143206fa",
   "metadata": {},
   "outputs": [],
   "source": [
    "#% chat openai-snowman, prompt = \"Pretend you are a friendly snowman. Stay in character for every response you give me. Keep your responses short. Feel free to ask me questions, too.\"\n",
    "Hi!"
   ]
  },
  {
   "cell_type": "code",
   "execution_count": null,
   "id": "d802217e-8556-44d5-9e29-4727e63916b3",
   "metadata": {},
   "outputs": [],
   "source": [
    "#% chat openai-snowman\n",
    "What are you? Do you like sunshine as much as I do?"
   ]
  },
  {
   "cell_type": "markdown",
   "id": "8ef3a022-6c86-474e-8797-1653e9ea44b8",
   "metadata": {},
   "source": [
    "Prompts funktionieren wie eine Konditionierung oder vorprägen deines Chatbots."
   ]
  },
  {
   "cell_type": "markdown",
   "id": "8ca30383-ae1f-43da-b225-3af1980564e8",
   "metadata": {},
   "source": [
    "## Pre-Defined Prompts\n",
    "Gute Prompts zu definieren, ist eine Wissenschaft für sich. Allerdings existieren schon Sammlungen fertiger Prompts, aus denen du bequem auswählen kannst. Die nachfolgend benutzte Sammlung ist beispielsweise von [Wolfram Research]( https://resources.wolframcloud.com/PromptRepository).\n",
    "\n",
    "Um das gesamte Prompt Repository aufzulisten, führe die nächsten beiden Zellen aus."
   ]
  },
  {
   "cell_type": "code",
   "execution_count": null,
   "id": "7ac449a5-8686-463c-ace6-715806a5d57b",
   "metadata": {},
   "outputs": [],
   "source": [
    "use LLM::Prompts;"
   ]
  },
  {
   "cell_type": "code",
   "execution_count": null,
   "id": "9d4e3dcb-df03-4dbc-91f6-5163c41dee55",
   "metadata": {},
   "outputs": [],
   "source": [
    ".say for llm-prompt-data(/.*/).sort"
   ]
  },
  {
   "cell_type": "markdown",
   "id": "2db576d3-5da9-44f0-8e1d-467f413eb0fc",
   "metadata": {},
   "source": [
    "Das ist etwas unübersichtlich. Du kannst die verfügbaren Prompts filtern, z.B. so, dass bestimmte Zeichenketten enthalten sein müssen. In dem folgenden Beispiel werden nur Prompts angezeigt, die \"Code\" oder \"Prog\" oder \"Sci\" im Namen enthalten."
   ]
  },
  {
   "cell_type": "code",
   "execution_count": null,
   "id": "3276761d-04c8-4a88-aecd-cbfcbcaef01e",
   "metadata": {},
   "outputs": [],
   "source": [
    ".say for llm-prompt-data(/ Code | Prog | Sci /).sort;"
   ]
  },
  {
   "cell_type": "markdown",
   "id": "661bd865-52ef-4f48-adf5-1a4d1e654494",
   "metadata": {},
   "source": [
    "Wenn du dir einen Prompt genauer anschauen möchtest, etwa ```CodeCommentInsert```, ```ScienceEnthusiast``` oder ```CodeWriter```, verwende ff. Befehl:"
   ]
  },
  {
   "cell_type": "code",
   "execution_count": null,
   "id": "d5d05b83-0854-4443-9061-b6fcae46b8e1",
   "metadata": {},
   "outputs": [],
   "source": [
    ".say for |llm-prompt-data<CodeWriter>.sort;"
   ]
  },
  {
   "cell_type": "markdown",
   "id": "5eba375c-141a-41c6-9dd0-d1a12ecabf9b",
   "metadata": {},
   "source": [
    "Was du im Feld ```PromptText```findest, kannst du kopieren, anpassen und für die Konditionierung deiner Chatbots verwenden. Um beispielsweise einen Chatbot zu erstellen, der sehr gut Python programmieren kann und keine Erklärungen zum Code gibt, ausser du fragst explizit, kopierst du ```PromptText```, passt den Text entsprechend für Python an und verwendest diesen beim Erstellen eines Chatbots so:"
   ]
  },
  {
   "cell_type": "code",
   "execution_count": null,
   "id": "4b6c91f2-4112-4979-86bd-3ebc0c0c08f7",
   "metadata": {},
   "outputs": [],
   "source": [
    "#% chat python-coder, conf = 'ChatOpenAI', model=gpt-3.5-turbo, max-tokens=4096, temperature=0.2\n",
    "You are Code Writer and as the coder that you are,\n",
    "you provide clear and concise code only, without explanation nor conversation.\n",
    "Your job is to output code with no accompanying text.\n",
    "Do not explain any code unless asked.\n",
    "Do not provide summaries unless asked.\n",
    "You are the best Python programmer in the world but do not converse.\n",
    "You know the Python documentation better than anyone but do not converse.\n",
    "You can provide clear examples and offer distinctive and unique instructions to the solutions you provide only if specifically requested.\n",
    "Only code in Python unless told otherwise.\n",
    "Unless they ask, you will only give code."
   ]
  },
  {
   "cell_type": "markdown",
   "id": "ad758eac-e8a9-4e89-8831-2b01b9b7b00f",
   "metadata": {},
   "source": [
    "OK, dann testen wir doch mal, ob dieser Chatbot nun keine Erklärungen zum Programmcode erstellt - ausser wir fragen explizit.\n",
    "\n",
    "__Aufgabe__ für python-coder: Erstelle eine Python-Funktion, welche eine Zeichenkette als Eingabe hat und als Ausgabe den häufigsten Buchstaben dieser Zeichenkette zurück gibt."
   ]
  },
  {
   "cell_type": "code",
   "execution_count": null,
   "id": "74fce33d-8335-43f1-b337-16219576fb5c",
   "metadata": {},
   "outputs": [],
   "source": [
    "#% chat python-coder\n",
    "\n",
    "Erstelle eine Python-Funktion, welche eine Zeichenkette als Eingabe hat und als Ausgabe den häufigsten Buchstaben dieser Zeichenkette zurück gibt."
   ]
  },
  {
   "cell_type": "markdown",
   "id": "61a54858-d2aa-4ff1-95ca-33285651c668",
   "metadata": {},
   "source": [
    "Wenn du diesen Code mit der Eingabe ```Hello, World!``` ausführst, gibt er ```l``` zurück - was für die Eingabe ```Hello, World!``` korrekt ist. Allerdings verwendet dieser Code einige Konzepte, die du vermutlich noch nicht kennst.\n",
    "\n",
    "Aber: Der Prompt scheint grundsätzlich funktioniert zu haben - wir sehen keine langatmigen Erklärungen des Quellcodes mehr. Vielleicht hat ja der verwendete Prompt dazu geführt, dass (zu) fortgeschrittene Konzepte vom Chatbot verwendet wurden?\n",
    "\n",
    "Testen wir das doch gleich einmal.\n",
    "\n",
    "__Aufgabe__: Erzeuge einen neuen Chatbot, der auf Schulniveau programmiert und etwas mehr Fantasie an den Tag legt und stelle diesem die gleiche Aufgabe."
   ]
  },
  {
   "cell_type": "code",
   "execution_count": null,
   "id": "2075e731-ac42-4c4f-bbcc-79a10d2c6a6b",
   "metadata": {},
   "outputs": [],
   "source": [
    "#% chat python-high-school-coder, conf = 'ChatOpenAI', model=gpt-3.5-turbo, max-tokens=4096, temperature=0.9\n",
    "You are a Python programmer that has programms on High School level and used only basic concepts.\n",
    "Only code in Python unless told otherwise."
   ]
  },
  {
   "cell_type": "code",
   "execution_count": null,
   "id": "5e910911-4d06-48c6-86e5-73aae5132def",
   "metadata": {},
   "outputs": [],
   "source": [
    "#% chat python-high-school-coder\n",
    "Erstelle eine Python-Funktion, welche eine Zeichenkette als Eingabe hat und als Ausgabe den häufigsten Buchstaben dieser Zeichenkette zurück gibt."
   ]
  },
  {
   "cell_type": "markdown",
   "id": "a96b88d7-c14c-42ef-838b-b0d8993daaea",
   "metadata": {},
   "source": [
    "Bist du noch immer ratlos, wie der Code funktioniert? Im nächsten Kapitel schauen wir uns an, wie du dir Code erklären lassen kannst."
   ]
  },
  {
   "cell_type": "markdown",
   "id": "11e73720-f452-4f56-8d59-297d500845a2",
   "metadata": {},
   "source": [
    "Zusatzaufgabe: Vielleicht hast du noch eigene Ideen, wie man einen Programmier-Chatbot optimal auf seine Arbeit als dein persönlichen Assistenten vorbereitet? Probiere es aus! Besprich deine Überlegungen und Ergebnisse mit der Schülerin oder dem Schüler neben dir."
   ]
  }
 ],
 "metadata": {
  "kernelspec": {
   "display_name": "RakuChatbook",
   "language": "raku",
   "name": "chatbook"
  },
  "language_info": {
   "file_extension": ".raku",
   "mimetype": "text/x-raku",
   "name": "raku",
   "version": "6.d"
  },
  "widgets": {
   "application/vnd.jupyter.widget-state+json": {
    "state": {},
    "version_major": 2,
    "version_minor": 0
   }
  }
 },
 "nbformat": 4,
 "nbformat_minor": 5
}
