{
 "cells": [
  {
   "cell_type": "markdown",
   "id": "8df0d090-0d4f-4878-a04d-b8c2a9195119",
   "metadata": {},
   "source": [
    "# AI-Chatbot Code erklären\n",
    "\n",
    "Stopp! Hast du [AI-Chatbot-Prompting.ipynb](AI-Chatbot-Prompting.ipynb) erfolgreich bearbeitet?"
   ]
  },
  {
   "cell_type": "markdown",
   "id": "94af668d-62e4-4c1f-a706-b406434754a9",
   "metadata": {},
   "source": [
    "Erstellen wir einen Chatbot mit dem Modell ```gpt-3.5-turbo``` des Anbieters ```OpenAI``` bei einer Temperatur von ```0.2```, nennen diesen ```python-coder``` und nutzen den Prompt [CodeWriter](https://resources.wolframcloud.com/PromptRepository/resources/CodeWriter) von Wolfram Research."
   ]
  },
  {
   "cell_type": "code",
   "execution_count": null,
   "id": "4b6c91f2-4112-4979-86bd-3ebc0c0c08f7",
   "metadata": {},
   "outputs": [],
   "source": [
    "#% chat python-coder, conf = 'ChatOpenAI', model=gpt-3.5-turbo, max-tokens=2024, temperature=0.2\n",
    "You are Code Writer and as the coder that you are,\n",
    "you provide clear and concise code only, without explanation nor conversation.\n",
    "Your job is to output code with no accompanying text.\n",
    "Do not explain any code unless asked.\n",
    "Do not provide summaries unless asked.\n",
    "You are the best Python programmer in the world but do not converse.\n",
    "You know the Python documentation better than anyone but do not converse.\n",
    "You can provide clear examples and offer distinctive and unique instructions to the solutions you provide only if specifically requested.\n",
    "Only code in Python unless told otherwise.\n",
    "Unless they ask, you will only give code."
   ]
  },
  {
   "cell_type": "markdown",
   "id": "3424b57d-6f65-4160-a90b-3cb0d14bc979",
   "metadata": {},
   "source": [
    "Nachdem du nun einen Chatbot nach deinen Wünschen konfiguriert hast, kannst du mit dem Chatbot arbeiten, wie mit einem persönlichen Assistenten.\n",
    "\n",
    "Du kannst dir z.B. unbekannten Code erklären lassen, wie folgenden\n",
    "\n",
    "```python\n",
    "def mysterious_function(arr):\n",
    "    n = len(arr)\n",
    "    for i in range(n-1):\n",
    "        swapped = False\n",
    "        for j in range(0, n-i-1):\n",
    "            if arr[j] > arr[j + 1]:\n",
    "                swapped = True\n",
    "                arr[j], arr[j + 1] = arr[j + 1], arr[j]\n",
    "        if not swapped:\n",
    "            return\n",
    "```\n",
    "\n",
    "Das geht dann bspw. so:"
   ]
  },
  {
   "cell_type": "code",
   "execution_count": null,
   "id": "adb5edba-0ddf-4a62-90f8-84d0a1451025",
   "metadata": {},
   "outputs": [],
   "source": [
    "#% chat python-coder\n",
    "Explain the following Python code to me. Is it an implementaton of a well-known algorithm?\n",
    "\n",
    "```python\n",
    "def mysterious_function(arr):\n",
    "    n = len(arr)\n",
    "    for i in range(n-1):\n",
    "        swapped = False\n",
    "        for j in range(0, n-i-1):\n",
    "            if arr[j] > arr[j + 1]:\n",
    "                swapped = True\n",
    "                arr[j], arr[j + 1] = arr[j + 1], arr[j]\n",
    "        if not swapped:\n",
    "            return\n",
    "```"
   ]
  },
  {
   "cell_type": "code",
   "execution_count": null,
   "id": "358d52dc-d4e1-4015-afac-e06d57a7c5ec",
   "metadata": {},
   "outputs": [],
   "source": [
    "#% chat python-coder\n",
    "Please explain the entire code to me."
   ]
  },
  {
   "cell_type": "markdown",
   "id": "c529d722-06c2-4115-a5ba-d83ab95be964",
   "metadata": {},
   "source": [
    "Möchtest du die Erklärungen lieber auf Deutsch? Kein Problem:"
   ]
  },
  {
   "cell_type": "code",
   "execution_count": null,
   "id": "e1ff5df6-4e6a-4907-a515-9b1e8fac1c62",
   "metadata": {},
   "outputs": [],
   "source": [
    "#% chat python-coder\n",
    "Translate the comments to German."
   ]
  },
  {
   "cell_type": "markdown",
   "id": "74baa4df-4e50-4dd7-9638-34d3cdca807d",
   "metadata": {},
   "source": [
    "Vermutlich hast du schon viel früher erkannt, dass dies eine Implementierung des Bubble-Sort-Algorithmus ist.\n",
    "\n",
    "Aber ist diese auch korrekt? Damit befasst sich der nächste Abschnitt."
   ]
  }
 ],
 "metadata": {
  "kernelspec": {
   "display_name": "RakuChatbook",
   "language": "raku",
   "name": "chatbook"
  },
  "language_info": {
   "file_extension": ".raku",
   "mimetype": "text/x-raku",
   "name": "raku",
   "version": "6.d"
  },
  "widgets": {
   "application/vnd.jupyter.widget-state+json": {
    "state": {},
    "version_major": 2,
    "version_minor": 0
   }
  }
 },
 "nbformat": 4,
 "nbformat_minor": 5
}
