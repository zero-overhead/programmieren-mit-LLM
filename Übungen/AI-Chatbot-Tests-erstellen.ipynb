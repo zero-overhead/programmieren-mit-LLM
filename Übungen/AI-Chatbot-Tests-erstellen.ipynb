{
 "cells": [
  {
   "cell_type": "markdown",
   "id": "8df0d090-0d4f-4878-a04d-b8c2a9195119",
   "metadata": {},
   "source": [
    "# AI-Chatbot Tests erstellen\n",
    "\n",
    "Stop: Hast du [AI-Chatbot-Code-erklären.ipynb](AI-Chatbot-Code-erklären.ipynb) erfolgreich bearbeitet?\n",
    "\n",
    "Wie können wir erkennen, ob die Ausgabe unserer Chatbots korrekt ist - und nicht bloss eine Halluzination?\n",
    "\n",
    "Eine gute Möglichkeit, Fehler im Code zu erkennen ist, eigene Tests zu erstellen."
   ]
  },
  {
   "cell_type": "markdown",
   "id": "94af668d-62e4-4c1f-a706-b406434754a9",
   "metadata": {},
   "source": [
    "Erstellen wir also zunächst wieder einen Chatbot mit dem Modell ```gpt-3.5-turbo``` des Anbieters ```OpenAI``` bei einer Temperatur von ```0.2```, nennen diesen ```python-coder``` und nutzen den Prompt [CodeWriter](https://resources.wolframcloud.com/PromptRepository/resources/CodeWriter) von Wolfram Research."
   ]
  },
  {
   "cell_type": "code",
   "execution_count": null,
   "id": "38d43b16-e595-41b9-a4a0-a0e89a8f9948",
   "metadata": {},
   "outputs": [],
   "source": [
    "use LLM::Prompts;\n",
    ".say for |llm-prompt-data<CodeWriter>.sort;"
   ]
  },
  {
   "cell_type": "code",
   "execution_count": null,
   "id": "4b6c91f2-4112-4979-86bd-3ebc0c0c08f7",
   "metadata": {},
   "outputs": [],
   "source": [
    "#% chat python-coder, conf = 'ChatOpenAI', model=gpt-3.5-turbo, max-tokens=4096, temperature=0.2\n",
    "You are Code Writer and as the coder that you are,\n",
    "you provide clear and concise code only, without explanation nor conversation.\n",
    "Your job is to output code with no accompanying text.\n",
    "Do not explain any code unless asked.\n",
    "Do not provide summaries unless asked.\n",
    "You are the best Python programmer in the world but do not converse.\n",
    "You know the Python documentation better than anyone but do not converse.\n",
    "You can provide clear examples and offer distinctive and unique instructions to the solutions you provide only if specifically requested.\n",
    "Only code in Python unless told otherwise.\n",
    "Unless they ask, you will only give code."
   ]
  },
  {
   "cell_type": "markdown",
   "id": "3424b57d-6f65-4160-a90b-3cb0d14bc979",
   "metadata": {},
   "source": [
    "Im Notebook [AI-Chatbot-Code-erklären](AI-Chatbot-Code-erklären.ipynb) haben wir erfahren, dass ff. Code (vermutlich) eine Python-Implementierung des bekannten [Bubble-Sort-Algorithmus](https://de.wikipedia.org/wiki/Bubblesort) ist.\n",
    "\n",
    "```python\n",
    "def bubble_sort(arr):\n",
    "    n = len(arr)\n",
    "    for i in range(n-1):\n",
    "        swapped = False\n",
    "        for j in range(0, n-i-1):\n",
    "            if arr[j] > arr[j + 1]:\n",
    "                swapped = True\n",
    "                arr[j], arr[j + 1] = arr[j + 1], arr[j]\n",
    "        if not swapped:\n",
    "            return\n",
    "```\n",
    "\n",
    "Die Erklärung, die wir erhalten haben, klang plausibel. Erstellen wir doch Testfälle, um die Funktionalität des Codes zu prüfen. Dazu verwendest du in Python im einfachsten Fall den ```assert```-Befehl. Beispielsweise so:\n",
    "\n",
    "```python\n",
    "data_array = [9, 3, 8, 5]\n",
    "bubble_sort(data_array)\n",
    "assert data_array == [3, 5, 8, 9]\n",
    "```\n",
    "\n",
    "Wir testen hier, ob das Array ```data_array``` nach der Sortierung auch wirklich korrekt sortiert ist, indem wir es mit dem händisch erstellten, korrekten Resultat vergleichen.\n",
    "\n",
    "Um sicher zu gehen, benötigst du ein paar mehr Tests. Beauftrage doch deinen Chatbot mit der Erstellung:"
   ]
  },
  {
   "cell_type": "code",
   "execution_count": null,
   "id": "adb5edba-0ddf-4a62-90f8-84d0a1451025",
   "metadata": {},
   "outputs": [],
   "source": [
    "#% chat python-coder\n",
    "Create 10 more testcases for testing the function bubble_sort:\n",
    "\n",
    "```python\n",
    "def bubble_sort(arr):\n",
    "    n = len(arr)\n",
    "    for i in range(n-1):\n",
    "        swapped = False\n",
    "        for j in range(0, n-i-1):\n",
    "            if arr[j] > arr[j + 1]:\n",
    "                swapped = True\n",
    "                arr[j], arr[j + 1] = arr[j + 1], arr[j]\n",
    "        if not swapped:\n",
    "            return\n",
    "\n",
    "data_array = [9, 3, 8, 5]\n",
    "bubble_sort(data_array)\n",
    "assert data_array == [3, 5, 8, 9]\n",
    "```"
   ]
  },
  {
   "cell_type": "markdown",
   "id": "ac465a4f-9863-4cee-bcfd-03d1d3cfaef4",
   "metadata": {},
   "source": [
    "Probiere nun aus, ob die von deinem Chatbot erstellten Tests alle ohne Fehler funktionieren.\n",
    "\n",
    "Das sieht auf den ersten Blick doch alles sehr vielversprechend aus."
   ]
  }
 ],
 "metadata": {
  "kernelspec": {
   "display_name": "RakuChatbook",
   "language": "raku",
   "name": "chatbook"
  },
  "language_info": {
   "file_extension": ".raku",
   "mimetype": "text/x-raku",
   "name": "raku",
   "version": "6.d"
  },
  "widgets": {
   "application/vnd.jupyter.widget-state+json": {
    "state": {},
    "version_major": 2,
    "version_minor": 0
   }
  }
 },
 "nbformat": 4,
 "nbformat_minor": 5
}
